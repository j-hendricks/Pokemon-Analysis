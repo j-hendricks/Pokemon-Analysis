{
 "cells": [
  {
   "cell_type": "code",
   "execution_count": 1,
   "id": "b25f2e96",
   "metadata": {},
   "outputs": [],
   "source": [
    "import pandas as pd\n",
    "import numpy as np\n",
    "import matplotlib.pyplot as plt\n",
    "import seaborn as sb\n",
    "import os\n",
    "import re\n",
    "from scipy.stats import linregress"
   ]
  },
  {
   "cell_type": "code",
   "execution_count": 2,
   "id": "5daf9463",
   "metadata": {},
   "outputs": [
    {
     "data": {
      "text/html": [
       "<div>\n",
       "<style scoped>\n",
       "    .dataframe tbody tr th:only-of-type {\n",
       "        vertical-align: middle;\n",
       "    }\n",
       "\n",
       "    .dataframe tbody tr th {\n",
       "        vertical-align: top;\n",
       "    }\n",
       "\n",
       "    .dataframe thead th {\n",
       "        text-align: right;\n",
       "    }\n",
       "</style>\n",
       "<table border=\"1\" class=\"dataframe\">\n",
       "  <thead>\n",
       "    <tr style=\"text-align: right;\">\n",
       "      <th></th>\n",
       "      <th>abilities</th>\n",
       "      <th>against_bug</th>\n",
       "      <th>against_dark</th>\n",
       "      <th>against_dragon</th>\n",
       "      <th>against_electric</th>\n",
       "      <th>against_fairy</th>\n",
       "      <th>against_fight</th>\n",
       "      <th>against_fire</th>\n",
       "      <th>against_flying</th>\n",
       "      <th>against_ghost</th>\n",
       "      <th>...</th>\n",
       "      <th>percentage_male</th>\n",
       "      <th>pokedex_number</th>\n",
       "      <th>sp_attack</th>\n",
       "      <th>sp_defense</th>\n",
       "      <th>speed</th>\n",
       "      <th>type1</th>\n",
       "      <th>type2</th>\n",
       "      <th>weight_kg</th>\n",
       "      <th>generation</th>\n",
       "      <th>is_legendary</th>\n",
       "    </tr>\n",
       "  </thead>\n",
       "  <tbody>\n",
       "    <tr>\n",
       "      <th>0</th>\n",
       "      <td>['Overgrow', 'Chlorophyll']</td>\n",
       "      <td>1.0</td>\n",
       "      <td>1.0</td>\n",
       "      <td>1.0</td>\n",
       "      <td>0.5</td>\n",
       "      <td>0.5</td>\n",
       "      <td>0.5</td>\n",
       "      <td>2.0</td>\n",
       "      <td>2.0</td>\n",
       "      <td>1.0</td>\n",
       "      <td>...</td>\n",
       "      <td>88.1</td>\n",
       "      <td>1</td>\n",
       "      <td>65</td>\n",
       "      <td>65</td>\n",
       "      <td>45</td>\n",
       "      <td>grass</td>\n",
       "      <td>poison</td>\n",
       "      <td>6.9</td>\n",
       "      <td>1</td>\n",
       "      <td>0</td>\n",
       "    </tr>\n",
       "    <tr>\n",
       "      <th>1</th>\n",
       "      <td>['Overgrow', 'Chlorophyll']</td>\n",
       "      <td>1.0</td>\n",
       "      <td>1.0</td>\n",
       "      <td>1.0</td>\n",
       "      <td>0.5</td>\n",
       "      <td>0.5</td>\n",
       "      <td>0.5</td>\n",
       "      <td>2.0</td>\n",
       "      <td>2.0</td>\n",
       "      <td>1.0</td>\n",
       "      <td>...</td>\n",
       "      <td>88.1</td>\n",
       "      <td>2</td>\n",
       "      <td>80</td>\n",
       "      <td>80</td>\n",
       "      <td>60</td>\n",
       "      <td>grass</td>\n",
       "      <td>poison</td>\n",
       "      <td>13.0</td>\n",
       "      <td>1</td>\n",
       "      <td>0</td>\n",
       "    </tr>\n",
       "    <tr>\n",
       "      <th>2</th>\n",
       "      <td>['Overgrow', 'Chlorophyll']</td>\n",
       "      <td>1.0</td>\n",
       "      <td>1.0</td>\n",
       "      <td>1.0</td>\n",
       "      <td>0.5</td>\n",
       "      <td>0.5</td>\n",
       "      <td>0.5</td>\n",
       "      <td>2.0</td>\n",
       "      <td>2.0</td>\n",
       "      <td>1.0</td>\n",
       "      <td>...</td>\n",
       "      <td>88.1</td>\n",
       "      <td>3</td>\n",
       "      <td>122</td>\n",
       "      <td>120</td>\n",
       "      <td>80</td>\n",
       "      <td>grass</td>\n",
       "      <td>poison</td>\n",
       "      <td>100.0</td>\n",
       "      <td>1</td>\n",
       "      <td>0</td>\n",
       "    </tr>\n",
       "    <tr>\n",
       "      <th>3</th>\n",
       "      <td>['Blaze', 'Solar Power']</td>\n",
       "      <td>0.5</td>\n",
       "      <td>1.0</td>\n",
       "      <td>1.0</td>\n",
       "      <td>1.0</td>\n",
       "      <td>0.5</td>\n",
       "      <td>1.0</td>\n",
       "      <td>0.5</td>\n",
       "      <td>1.0</td>\n",
       "      <td>1.0</td>\n",
       "      <td>...</td>\n",
       "      <td>88.1</td>\n",
       "      <td>4</td>\n",
       "      <td>60</td>\n",
       "      <td>50</td>\n",
       "      <td>65</td>\n",
       "      <td>fire</td>\n",
       "      <td>NaN</td>\n",
       "      <td>8.5</td>\n",
       "      <td>1</td>\n",
       "      <td>0</td>\n",
       "    </tr>\n",
       "    <tr>\n",
       "      <th>4</th>\n",
       "      <td>['Blaze', 'Solar Power']</td>\n",
       "      <td>0.5</td>\n",
       "      <td>1.0</td>\n",
       "      <td>1.0</td>\n",
       "      <td>1.0</td>\n",
       "      <td>0.5</td>\n",
       "      <td>1.0</td>\n",
       "      <td>0.5</td>\n",
       "      <td>1.0</td>\n",
       "      <td>1.0</td>\n",
       "      <td>...</td>\n",
       "      <td>88.1</td>\n",
       "      <td>5</td>\n",
       "      <td>80</td>\n",
       "      <td>65</td>\n",
       "      <td>80</td>\n",
       "      <td>fire</td>\n",
       "      <td>NaN</td>\n",
       "      <td>19.0</td>\n",
       "      <td>1</td>\n",
       "      <td>0</td>\n",
       "    </tr>\n",
       "  </tbody>\n",
       "</table>\n",
       "<p>5 rows × 41 columns</p>\n",
       "</div>"
      ],
      "text/plain": [
       "                     abilities  against_bug  against_dark  against_dragon  \\\n",
       "0  ['Overgrow', 'Chlorophyll']          1.0           1.0             1.0   \n",
       "1  ['Overgrow', 'Chlorophyll']          1.0           1.0             1.0   \n",
       "2  ['Overgrow', 'Chlorophyll']          1.0           1.0             1.0   \n",
       "3     ['Blaze', 'Solar Power']          0.5           1.0             1.0   \n",
       "4     ['Blaze', 'Solar Power']          0.5           1.0             1.0   \n",
       "\n",
       "   against_electric  against_fairy  against_fight  against_fire  \\\n",
       "0               0.5            0.5            0.5           2.0   \n",
       "1               0.5            0.5            0.5           2.0   \n",
       "2               0.5            0.5            0.5           2.0   \n",
       "3               1.0            0.5            1.0           0.5   \n",
       "4               1.0            0.5            1.0           0.5   \n",
       "\n",
       "   against_flying  against_ghost  ...  percentage_male  pokedex_number  \\\n",
       "0             2.0            1.0  ...             88.1               1   \n",
       "1             2.0            1.0  ...             88.1               2   \n",
       "2             2.0            1.0  ...             88.1               3   \n",
       "3             1.0            1.0  ...             88.1               4   \n",
       "4             1.0            1.0  ...             88.1               5   \n",
       "\n",
       "   sp_attack  sp_defense  speed  type1   type2  weight_kg  generation  \\\n",
       "0         65          65     45  grass  poison        6.9           1   \n",
       "1         80          80     60  grass  poison       13.0           1   \n",
       "2        122         120     80  grass  poison      100.0           1   \n",
       "3         60          50     65   fire     NaN        8.5           1   \n",
       "4         80          65     80   fire     NaN       19.0           1   \n",
       "\n",
       "   is_legendary  \n",
       "0             0  \n",
       "1             0  \n",
       "2             0  \n",
       "3             0  \n",
       "4             0  \n",
       "\n",
       "[5 rows x 41 columns]"
      ]
     },
     "execution_count": 2,
     "metadata": {},
     "output_type": "execute_result"
    }
   ],
   "source": [
    "file_to_load = os.path.join('..','Resources','pokemon.csv')\n",
    "pokemon_df = pd.read_csv(file_to_load)\n",
    "pokemon_df.head()"
   ]
  },
  {
   "cell_type": "code",
   "execution_count": 3,
   "id": "7e58df60",
   "metadata": {},
   "outputs": [
    {
     "data": {
      "text/plain": [
       "Index(['abilities', 'against_bug', 'against_dark', 'against_dragon',\n",
       "       'against_electric', 'against_fairy', 'against_fight', 'against_fire',\n",
       "       'against_flying', 'against_ghost', 'against_grass', 'against_ground',\n",
       "       'against_ice', 'against_normal', 'against_poison', 'against_psychic',\n",
       "       'against_rock', 'against_steel', 'against_water', 'attack',\n",
       "       'base_egg_steps', 'base_happiness', 'base_total', 'capture_rate',\n",
       "       'classfication', 'defense', 'experience_growth', 'height_m', 'hp',\n",
       "       'japanese_name', 'name', 'percentage_male', 'pokedex_number',\n",
       "       'sp_attack', 'sp_defense', 'speed', 'type1', 'type2', 'weight_kg',\n",
       "       'generation', 'is_legendary'],\n",
       "      dtype='object')"
      ]
     },
     "execution_count": 3,
     "metadata": {},
     "output_type": "execute_result"
    }
   ],
   "source": [
    "pokemon_df.columns"
   ]
  },
  {
   "cell_type": "code",
   "execution_count": 4,
   "id": "1bb74747",
   "metadata": {},
   "outputs": [
    {
     "data": {
      "text/plain": [
       "abilities              0\n",
       "against_bug            0\n",
       "against_dark           0\n",
       "against_dragon         0\n",
       "against_electric       0\n",
       "against_fairy          0\n",
       "against_fight          0\n",
       "against_fire           0\n",
       "against_flying         0\n",
       "against_ghost          0\n",
       "against_grass          0\n",
       "against_ground         0\n",
       "against_ice            0\n",
       "against_normal         0\n",
       "against_poison         0\n",
       "against_psychic        0\n",
       "against_rock           0\n",
       "against_steel          0\n",
       "against_water          0\n",
       "attack                 0\n",
       "base_egg_steps         0\n",
       "base_happiness         0\n",
       "base_total             0\n",
       "capture_rate           0\n",
       "classfication          0\n",
       "defense                0\n",
       "experience_growth      0\n",
       "height_m              20\n",
       "hp                     0\n",
       "japanese_name          0\n",
       "name                   0\n",
       "percentage_male       98\n",
       "pokedex_number         0\n",
       "sp_attack              0\n",
       "sp_defense             0\n",
       "speed                  0\n",
       "type1                  0\n",
       "type2                384\n",
       "weight_kg             20\n",
       "generation             0\n",
       "is_legendary           0\n",
       "dtype: int64"
      ]
     },
     "execution_count": 4,
     "metadata": {},
     "output_type": "execute_result"
    }
   ],
   "source": [
    "pokemon_df.isnull().sum()"
   ]
  },
  {
   "cell_type": "code",
   "execution_count": 5,
   "id": "a35cc8a3",
   "metadata": {},
   "outputs": [
    {
     "data": {
      "text/html": [
       "<div>\n",
       "<style scoped>\n",
       "    .dataframe tbody tr th:only-of-type {\n",
       "        vertical-align: middle;\n",
       "    }\n",
       "\n",
       "    .dataframe tbody tr th {\n",
       "        vertical-align: top;\n",
       "    }\n",
       "\n",
       "    .dataframe thead th {\n",
       "        text-align: right;\n",
       "    }\n",
       "</style>\n",
       "<table border=\"1\" class=\"dataframe\">\n",
       "  <thead>\n",
       "    <tr style=\"text-align: right;\">\n",
       "      <th></th>\n",
       "      <th>abilities</th>\n",
       "      <th>against_bug</th>\n",
       "      <th>against_dark</th>\n",
       "      <th>against_dragon</th>\n",
       "      <th>against_electric</th>\n",
       "      <th>against_fairy</th>\n",
       "      <th>against_fight</th>\n",
       "      <th>against_fire</th>\n",
       "      <th>against_flying</th>\n",
       "      <th>against_ghost</th>\n",
       "      <th>...</th>\n",
       "      <th>percentage_male</th>\n",
       "      <th>pokedex_number</th>\n",
       "      <th>sp_attack</th>\n",
       "      <th>sp_defense</th>\n",
       "      <th>speed</th>\n",
       "      <th>type1</th>\n",
       "      <th>type2</th>\n",
       "      <th>weight_kg</th>\n",
       "      <th>generation</th>\n",
       "      <th>is_legendary</th>\n",
       "    </tr>\n",
       "  </thead>\n",
       "  <tbody>\n",
       "    <tr>\n",
       "      <th>18</th>\n",
       "      <td>['Run Away', 'Guts', 'Hustle', 'Gluttony', 'Hu...</td>\n",
       "      <td>1.0</td>\n",
       "      <td>1.0</td>\n",
       "      <td>1.0</td>\n",
       "      <td>1.0</td>\n",
       "      <td>1.0</td>\n",
       "      <td>2.0</td>\n",
       "      <td>1.0</td>\n",
       "      <td>1.0</td>\n",
       "      <td>0.0</td>\n",
       "      <td>...</td>\n",
       "      <td>50.0</td>\n",
       "      <td>19</td>\n",
       "      <td>25</td>\n",
       "      <td>35</td>\n",
       "      <td>72</td>\n",
       "      <td>normal</td>\n",
       "      <td>dark</td>\n",
       "      <td>NaN</td>\n",
       "      <td>1</td>\n",
       "      <td>0</td>\n",
       "    </tr>\n",
       "    <tr>\n",
       "      <th>19</th>\n",
       "      <td>['Run Away', 'Guts', 'Hustle', 'Gluttony', 'Hu...</td>\n",
       "      <td>1.0</td>\n",
       "      <td>1.0</td>\n",
       "      <td>1.0</td>\n",
       "      <td>1.0</td>\n",
       "      <td>1.0</td>\n",
       "      <td>2.0</td>\n",
       "      <td>1.0</td>\n",
       "      <td>1.0</td>\n",
       "      <td>0.0</td>\n",
       "      <td>...</td>\n",
       "      <td>50.0</td>\n",
       "      <td>20</td>\n",
       "      <td>40</td>\n",
       "      <td>80</td>\n",
       "      <td>77</td>\n",
       "      <td>normal</td>\n",
       "      <td>dark</td>\n",
       "      <td>NaN</td>\n",
       "      <td>1</td>\n",
       "      <td>0</td>\n",
       "    </tr>\n",
       "    <tr>\n",
       "      <th>25</th>\n",
       "      <td>['Static', 'Lightningrod', 'Surge Surfer']</td>\n",
       "      <td>1.0</td>\n",
       "      <td>1.0</td>\n",
       "      <td>1.0</td>\n",
       "      <td>0.5</td>\n",
       "      <td>1.0</td>\n",
       "      <td>1.0</td>\n",
       "      <td>1.0</td>\n",
       "      <td>0.5</td>\n",
       "      <td>1.0</td>\n",
       "      <td>...</td>\n",
       "      <td>50.0</td>\n",
       "      <td>26</td>\n",
       "      <td>95</td>\n",
       "      <td>85</td>\n",
       "      <td>110</td>\n",
       "      <td>electric</td>\n",
       "      <td>electric</td>\n",
       "      <td>NaN</td>\n",
       "      <td>1</td>\n",
       "      <td>0</td>\n",
       "    </tr>\n",
       "    <tr>\n",
       "      <th>26</th>\n",
       "      <td>['Sand Veil', 'Sand Rush', 'Snow Cloak', 'Slus...</td>\n",
       "      <td>1.0</td>\n",
       "      <td>1.0</td>\n",
       "      <td>1.0</td>\n",
       "      <td>0.0</td>\n",
       "      <td>1.0</td>\n",
       "      <td>1.0</td>\n",
       "      <td>1.0</td>\n",
       "      <td>1.0</td>\n",
       "      <td>1.0</td>\n",
       "      <td>...</td>\n",
       "      <td>50.0</td>\n",
       "      <td>27</td>\n",
       "      <td>10</td>\n",
       "      <td>35</td>\n",
       "      <td>40</td>\n",
       "      <td>ground</td>\n",
       "      <td>ice</td>\n",
       "      <td>NaN</td>\n",
       "      <td>1</td>\n",
       "      <td>0</td>\n",
       "    </tr>\n",
       "    <tr>\n",
       "      <th>27</th>\n",
       "      <td>['Sand Veil', 'Sand Rush', 'Snow Cloak', 'Slus...</td>\n",
       "      <td>1.0</td>\n",
       "      <td>1.0</td>\n",
       "      <td>1.0</td>\n",
       "      <td>0.0</td>\n",
       "      <td>1.0</td>\n",
       "      <td>1.0</td>\n",
       "      <td>1.0</td>\n",
       "      <td>1.0</td>\n",
       "      <td>1.0</td>\n",
       "      <td>...</td>\n",
       "      <td>50.0</td>\n",
       "      <td>28</td>\n",
       "      <td>25</td>\n",
       "      <td>65</td>\n",
       "      <td>65</td>\n",
       "      <td>ground</td>\n",
       "      <td>ice</td>\n",
       "      <td>NaN</td>\n",
       "      <td>1</td>\n",
       "      <td>0</td>\n",
       "    </tr>\n",
       "    <tr>\n",
       "      <th>36</th>\n",
       "      <td>['Flash Fire', 'Drought', 'Snow Cloak', 'Snow ...</td>\n",
       "      <td>0.5</td>\n",
       "      <td>1.0</td>\n",
       "      <td>1.0</td>\n",
       "      <td>1.0</td>\n",
       "      <td>0.5</td>\n",
       "      <td>1.0</td>\n",
       "      <td>0.5</td>\n",
       "      <td>1.0</td>\n",
       "      <td>1.0</td>\n",
       "      <td>...</td>\n",
       "      <td>24.6</td>\n",
       "      <td>37</td>\n",
       "      <td>50</td>\n",
       "      <td>65</td>\n",
       "      <td>65</td>\n",
       "      <td>fire</td>\n",
       "      <td>ice</td>\n",
       "      <td>NaN</td>\n",
       "      <td>1</td>\n",
       "      <td>0</td>\n",
       "    </tr>\n",
       "    <tr>\n",
       "      <th>37</th>\n",
       "      <td>['Flash Fire', 'Drought', 'Snow Cloak', 'Snow ...</td>\n",
       "      <td>0.5</td>\n",
       "      <td>1.0</td>\n",
       "      <td>1.0</td>\n",
       "      <td>1.0</td>\n",
       "      <td>0.5</td>\n",
       "      <td>1.0</td>\n",
       "      <td>0.5</td>\n",
       "      <td>1.0</td>\n",
       "      <td>1.0</td>\n",
       "      <td>...</td>\n",
       "      <td>24.6</td>\n",
       "      <td>38</td>\n",
       "      <td>81</td>\n",
       "      <td>100</td>\n",
       "      <td>109</td>\n",
       "      <td>fire</td>\n",
       "      <td>ice</td>\n",
       "      <td>NaN</td>\n",
       "      <td>1</td>\n",
       "      <td>0</td>\n",
       "    </tr>\n",
       "    <tr>\n",
       "      <th>49</th>\n",
       "      <td>['Sand Veil', 'Arena Trap', 'Sand Force', 'San...</td>\n",
       "      <td>1.0</td>\n",
       "      <td>1.0</td>\n",
       "      <td>1.0</td>\n",
       "      <td>0.0</td>\n",
       "      <td>1.0</td>\n",
       "      <td>1.0</td>\n",
       "      <td>1.0</td>\n",
       "      <td>1.0</td>\n",
       "      <td>1.0</td>\n",
       "      <td>...</td>\n",
       "      <td>50.0</td>\n",
       "      <td>50</td>\n",
       "      <td>35</td>\n",
       "      <td>45</td>\n",
       "      <td>90</td>\n",
       "      <td>ground</td>\n",
       "      <td>ground</td>\n",
       "      <td>NaN</td>\n",
       "      <td>1</td>\n",
       "      <td>0</td>\n",
       "    </tr>\n",
       "    <tr>\n",
       "      <th>50</th>\n",
       "      <td>['Sand Veil', 'Arena Trap', 'Sand Force', 'San...</td>\n",
       "      <td>1.0</td>\n",
       "      <td>1.0</td>\n",
       "      <td>1.0</td>\n",
       "      <td>0.0</td>\n",
       "      <td>1.0</td>\n",
       "      <td>1.0</td>\n",
       "      <td>1.0</td>\n",
       "      <td>1.0</td>\n",
       "      <td>1.0</td>\n",
       "      <td>...</td>\n",
       "      <td>50.0</td>\n",
       "      <td>51</td>\n",
       "      <td>50</td>\n",
       "      <td>70</td>\n",
       "      <td>110</td>\n",
       "      <td>ground</td>\n",
       "      <td>ground</td>\n",
       "      <td>NaN</td>\n",
       "      <td>1</td>\n",
       "      <td>0</td>\n",
       "    </tr>\n",
       "    <tr>\n",
       "      <th>51</th>\n",
       "      <td>['Pickup', 'Technician', 'Unnerve', 'Pickup', ...</td>\n",
       "      <td>1.0</td>\n",
       "      <td>1.0</td>\n",
       "      <td>1.0</td>\n",
       "      <td>1.0</td>\n",
       "      <td>1.0</td>\n",
       "      <td>2.0</td>\n",
       "      <td>1.0</td>\n",
       "      <td>1.0</td>\n",
       "      <td>0.0</td>\n",
       "      <td>...</td>\n",
       "      <td>50.0</td>\n",
       "      <td>52</td>\n",
       "      <td>50</td>\n",
       "      <td>40</td>\n",
       "      <td>90</td>\n",
       "      <td>normal</td>\n",
       "      <td>dark</td>\n",
       "      <td>NaN</td>\n",
       "      <td>1</td>\n",
       "      <td>0</td>\n",
       "    </tr>\n",
       "    <tr>\n",
       "      <th>52</th>\n",
       "      <td>['Limber', 'Technician', 'Unnerve', 'Fur Coat'...</td>\n",
       "      <td>1.0</td>\n",
       "      <td>1.0</td>\n",
       "      <td>1.0</td>\n",
       "      <td>1.0</td>\n",
       "      <td>1.0</td>\n",
       "      <td>2.0</td>\n",
       "      <td>1.0</td>\n",
       "      <td>1.0</td>\n",
       "      <td>0.0</td>\n",
       "      <td>...</td>\n",
       "      <td>50.0</td>\n",
       "      <td>53</td>\n",
       "      <td>75</td>\n",
       "      <td>65</td>\n",
       "      <td>115</td>\n",
       "      <td>normal</td>\n",
       "      <td>dark</td>\n",
       "      <td>NaN</td>\n",
       "      <td>1</td>\n",
       "      <td>0</td>\n",
       "    </tr>\n",
       "    <tr>\n",
       "      <th>73</th>\n",
       "      <td>['Rock Head', 'Sturdy', 'Sand Veil', 'Magnet P...</td>\n",
       "      <td>1.0</td>\n",
       "      <td>1.0</td>\n",
       "      <td>1.0</td>\n",
       "      <td>0.0</td>\n",
       "      <td>1.0</td>\n",
       "      <td>2.0</td>\n",
       "      <td>0.5</td>\n",
       "      <td>0.5</td>\n",
       "      <td>1.0</td>\n",
       "      <td>...</td>\n",
       "      <td>50.0</td>\n",
       "      <td>74</td>\n",
       "      <td>30</td>\n",
       "      <td>30</td>\n",
       "      <td>20</td>\n",
       "      <td>rock</td>\n",
       "      <td>ground</td>\n",
       "      <td>NaN</td>\n",
       "      <td>1</td>\n",
       "      <td>0</td>\n",
       "    </tr>\n",
       "    <tr>\n",
       "      <th>74</th>\n",
       "      <td>['Rock Head', 'Sturdy', 'Sand Veil', 'Magnet P...</td>\n",
       "      <td>1.0</td>\n",
       "      <td>1.0</td>\n",
       "      <td>1.0</td>\n",
       "      <td>0.0</td>\n",
       "      <td>1.0</td>\n",
       "      <td>2.0</td>\n",
       "      <td>0.5</td>\n",
       "      <td>0.5</td>\n",
       "      <td>1.0</td>\n",
       "      <td>...</td>\n",
       "      <td>50.0</td>\n",
       "      <td>75</td>\n",
       "      <td>45</td>\n",
       "      <td>45</td>\n",
       "      <td>35</td>\n",
       "      <td>rock</td>\n",
       "      <td>ground</td>\n",
       "      <td>NaN</td>\n",
       "      <td>1</td>\n",
       "      <td>0</td>\n",
       "    </tr>\n",
       "    <tr>\n",
       "      <th>75</th>\n",
       "      <td>['Rock Head', 'Sturdy', 'Sand Veil', 'Magnet P...</td>\n",
       "      <td>1.0</td>\n",
       "      <td>1.0</td>\n",
       "      <td>1.0</td>\n",
       "      <td>0.0</td>\n",
       "      <td>1.0</td>\n",
       "      <td>2.0</td>\n",
       "      <td>0.5</td>\n",
       "      <td>0.5</td>\n",
       "      <td>1.0</td>\n",
       "      <td>...</td>\n",
       "      <td>50.0</td>\n",
       "      <td>76</td>\n",
       "      <td>55</td>\n",
       "      <td>65</td>\n",
       "      <td>45</td>\n",
       "      <td>rock</td>\n",
       "      <td>ground</td>\n",
       "      <td>NaN</td>\n",
       "      <td>1</td>\n",
       "      <td>0</td>\n",
       "    </tr>\n",
       "    <tr>\n",
       "      <th>87</th>\n",
       "      <td>['Stench', 'Sticky Hold', 'Poison Touch', 'Poi...</td>\n",
       "      <td>0.5</td>\n",
       "      <td>1.0</td>\n",
       "      <td>1.0</td>\n",
       "      <td>1.0</td>\n",
       "      <td>0.5</td>\n",
       "      <td>0.5</td>\n",
       "      <td>1.0</td>\n",
       "      <td>1.0</td>\n",
       "      <td>1.0</td>\n",
       "      <td>...</td>\n",
       "      <td>50.0</td>\n",
       "      <td>88</td>\n",
       "      <td>40</td>\n",
       "      <td>50</td>\n",
       "      <td>25</td>\n",
       "      <td>poison</td>\n",
       "      <td>poison</td>\n",
       "      <td>NaN</td>\n",
       "      <td>1</td>\n",
       "      <td>0</td>\n",
       "    </tr>\n",
       "    <tr>\n",
       "      <th>88</th>\n",
       "      <td>['Stench', 'Sticky Hold', 'Poison Touch', 'Poi...</td>\n",
       "      <td>0.5</td>\n",
       "      <td>1.0</td>\n",
       "      <td>1.0</td>\n",
       "      <td>1.0</td>\n",
       "      <td>0.5</td>\n",
       "      <td>0.5</td>\n",
       "      <td>1.0</td>\n",
       "      <td>1.0</td>\n",
       "      <td>1.0</td>\n",
       "      <td>...</td>\n",
       "      <td>50.0</td>\n",
       "      <td>89</td>\n",
       "      <td>65</td>\n",
       "      <td>100</td>\n",
       "      <td>50</td>\n",
       "      <td>poison</td>\n",
       "      <td>poison</td>\n",
       "      <td>NaN</td>\n",
       "      <td>1</td>\n",
       "      <td>0</td>\n",
       "    </tr>\n",
       "    <tr>\n",
       "      <th>102</th>\n",
       "      <td>['Chlorophyll', 'Harvest', 'Frisk', 'Harvest']</td>\n",
       "      <td>4.0</td>\n",
       "      <td>2.0</td>\n",
       "      <td>1.0</td>\n",
       "      <td>0.5</td>\n",
       "      <td>1.0</td>\n",
       "      <td>0.5</td>\n",
       "      <td>2.0</td>\n",
       "      <td>2.0</td>\n",
       "      <td>2.0</td>\n",
       "      <td>...</td>\n",
       "      <td>50.0</td>\n",
       "      <td>103</td>\n",
       "      <td>125</td>\n",
       "      <td>75</td>\n",
       "      <td>45</td>\n",
       "      <td>grass</td>\n",
       "      <td>psychic</td>\n",
       "      <td>NaN</td>\n",
       "      <td>1</td>\n",
       "      <td>0</td>\n",
       "    </tr>\n",
       "    <tr>\n",
       "      <th>104</th>\n",
       "      <td>['Rock Head', 'Lightningrod', 'Battle Armor', ...</td>\n",
       "      <td>1.0</td>\n",
       "      <td>1.0</td>\n",
       "      <td>1.0</td>\n",
       "      <td>0.0</td>\n",
       "      <td>1.0</td>\n",
       "      <td>1.0</td>\n",
       "      <td>1.0</td>\n",
       "      <td>1.0</td>\n",
       "      <td>1.0</td>\n",
       "      <td>...</td>\n",
       "      <td>50.0</td>\n",
       "      <td>105</td>\n",
       "      <td>50</td>\n",
       "      <td>80</td>\n",
       "      <td>45</td>\n",
       "      <td>ground</td>\n",
       "      <td>fire</td>\n",
       "      <td>NaN</td>\n",
       "      <td>1</td>\n",
       "      <td>0</td>\n",
       "    </tr>\n",
       "    <tr>\n",
       "      <th>719</th>\n",
       "      <td>['Magician']</td>\n",
       "      <td>1.0</td>\n",
       "      <td>4.0</td>\n",
       "      <td>1.0</td>\n",
       "      <td>1.0</td>\n",
       "      <td>1.0</td>\n",
       "      <td>0.0</td>\n",
       "      <td>1.0</td>\n",
       "      <td>1.0</td>\n",
       "      <td>4.0</td>\n",
       "      <td>...</td>\n",
       "      <td>NaN</td>\n",
       "      <td>720</td>\n",
       "      <td>170</td>\n",
       "      <td>130</td>\n",
       "      <td>80</td>\n",
       "      <td>psychic</td>\n",
       "      <td>ghost</td>\n",
       "      <td>NaN</td>\n",
       "      <td>6</td>\n",
       "      <td>1</td>\n",
       "    </tr>\n",
       "    <tr>\n",
       "      <th>744</th>\n",
       "      <td>['Keen Eye', 'Sand Rush', 'Steadfast', 'Keen E...</td>\n",
       "      <td>1.0</td>\n",
       "      <td>1.0</td>\n",
       "      <td>1.0</td>\n",
       "      <td>1.0</td>\n",
       "      <td>1.0</td>\n",
       "      <td>2.0</td>\n",
       "      <td>0.5</td>\n",
       "      <td>0.5</td>\n",
       "      <td>1.0</td>\n",
       "      <td>...</td>\n",
       "      <td>50.0</td>\n",
       "      <td>745</td>\n",
       "      <td>55</td>\n",
       "      <td>75</td>\n",
       "      <td>82</td>\n",
       "      <td>rock</td>\n",
       "      <td>NaN</td>\n",
       "      <td>NaN</td>\n",
       "      <td>7</td>\n",
       "      <td>0</td>\n",
       "    </tr>\n",
       "  </tbody>\n",
       "</table>\n",
       "<p>20 rows × 41 columns</p>\n",
       "</div>"
      ],
      "text/plain": [
       "                                             abilities  against_bug  \\\n",
       "18   ['Run Away', 'Guts', 'Hustle', 'Gluttony', 'Hu...          1.0   \n",
       "19   ['Run Away', 'Guts', 'Hustle', 'Gluttony', 'Hu...          1.0   \n",
       "25          ['Static', 'Lightningrod', 'Surge Surfer']          1.0   \n",
       "26   ['Sand Veil', 'Sand Rush', 'Snow Cloak', 'Slus...          1.0   \n",
       "27   ['Sand Veil', 'Sand Rush', 'Snow Cloak', 'Slus...          1.0   \n",
       "36   ['Flash Fire', 'Drought', 'Snow Cloak', 'Snow ...          0.5   \n",
       "37   ['Flash Fire', 'Drought', 'Snow Cloak', 'Snow ...          0.5   \n",
       "49   ['Sand Veil', 'Arena Trap', 'Sand Force', 'San...          1.0   \n",
       "50   ['Sand Veil', 'Arena Trap', 'Sand Force', 'San...          1.0   \n",
       "51   ['Pickup', 'Technician', 'Unnerve', 'Pickup', ...          1.0   \n",
       "52   ['Limber', 'Technician', 'Unnerve', 'Fur Coat'...          1.0   \n",
       "73   ['Rock Head', 'Sturdy', 'Sand Veil', 'Magnet P...          1.0   \n",
       "74   ['Rock Head', 'Sturdy', 'Sand Veil', 'Magnet P...          1.0   \n",
       "75   ['Rock Head', 'Sturdy', 'Sand Veil', 'Magnet P...          1.0   \n",
       "87   ['Stench', 'Sticky Hold', 'Poison Touch', 'Poi...          0.5   \n",
       "88   ['Stench', 'Sticky Hold', 'Poison Touch', 'Poi...          0.5   \n",
       "102     ['Chlorophyll', 'Harvest', 'Frisk', 'Harvest']          4.0   \n",
       "104  ['Rock Head', 'Lightningrod', 'Battle Armor', ...          1.0   \n",
       "719                                       ['Magician']          1.0   \n",
       "744  ['Keen Eye', 'Sand Rush', 'Steadfast', 'Keen E...          1.0   \n",
       "\n",
       "     against_dark  against_dragon  against_electric  against_fairy  \\\n",
       "18            1.0             1.0               1.0            1.0   \n",
       "19            1.0             1.0               1.0            1.0   \n",
       "25            1.0             1.0               0.5            1.0   \n",
       "26            1.0             1.0               0.0            1.0   \n",
       "27            1.0             1.0               0.0            1.0   \n",
       "36            1.0             1.0               1.0            0.5   \n",
       "37            1.0             1.0               1.0            0.5   \n",
       "49            1.0             1.0               0.0            1.0   \n",
       "50            1.0             1.0               0.0            1.0   \n",
       "51            1.0             1.0               1.0            1.0   \n",
       "52            1.0             1.0               1.0            1.0   \n",
       "73            1.0             1.0               0.0            1.0   \n",
       "74            1.0             1.0               0.0            1.0   \n",
       "75            1.0             1.0               0.0            1.0   \n",
       "87            1.0             1.0               1.0            0.5   \n",
       "88            1.0             1.0               1.0            0.5   \n",
       "102           2.0             1.0               0.5            1.0   \n",
       "104           1.0             1.0               0.0            1.0   \n",
       "719           4.0             1.0               1.0            1.0   \n",
       "744           1.0             1.0               1.0            1.0   \n",
       "\n",
       "     against_fight  against_fire  against_flying  against_ghost  ...  \\\n",
       "18             2.0           1.0             1.0            0.0  ...   \n",
       "19             2.0           1.0             1.0            0.0  ...   \n",
       "25             1.0           1.0             0.5            1.0  ...   \n",
       "26             1.0           1.0             1.0            1.0  ...   \n",
       "27             1.0           1.0             1.0            1.0  ...   \n",
       "36             1.0           0.5             1.0            1.0  ...   \n",
       "37             1.0           0.5             1.0            1.0  ...   \n",
       "49             1.0           1.0             1.0            1.0  ...   \n",
       "50             1.0           1.0             1.0            1.0  ...   \n",
       "51             2.0           1.0             1.0            0.0  ...   \n",
       "52             2.0           1.0             1.0            0.0  ...   \n",
       "73             2.0           0.5             0.5            1.0  ...   \n",
       "74             2.0           0.5             0.5            1.0  ...   \n",
       "75             2.0           0.5             0.5            1.0  ...   \n",
       "87             0.5           1.0             1.0            1.0  ...   \n",
       "88             0.5           1.0             1.0            1.0  ...   \n",
       "102            0.5           2.0             2.0            2.0  ...   \n",
       "104            1.0           1.0             1.0            1.0  ...   \n",
       "719            0.0           1.0             1.0            4.0  ...   \n",
       "744            2.0           0.5             0.5            1.0  ...   \n",
       "\n",
       "     percentage_male  pokedex_number  sp_attack  sp_defense  speed     type1  \\\n",
       "18              50.0              19         25          35     72    normal   \n",
       "19              50.0              20         40          80     77    normal   \n",
       "25              50.0              26         95          85    110  electric   \n",
       "26              50.0              27         10          35     40    ground   \n",
       "27              50.0              28         25          65     65    ground   \n",
       "36              24.6              37         50          65     65      fire   \n",
       "37              24.6              38         81         100    109      fire   \n",
       "49              50.0              50         35          45     90    ground   \n",
       "50              50.0              51         50          70    110    ground   \n",
       "51              50.0              52         50          40     90    normal   \n",
       "52              50.0              53         75          65    115    normal   \n",
       "73              50.0              74         30          30     20      rock   \n",
       "74              50.0              75         45          45     35      rock   \n",
       "75              50.0              76         55          65     45      rock   \n",
       "87              50.0              88         40          50     25    poison   \n",
       "88              50.0              89         65         100     50    poison   \n",
       "102             50.0             103        125          75     45     grass   \n",
       "104             50.0             105         50          80     45    ground   \n",
       "719              NaN             720        170         130     80   psychic   \n",
       "744             50.0             745         55          75     82      rock   \n",
       "\n",
       "        type2  weight_kg  generation  is_legendary  \n",
       "18       dark        NaN           1             0  \n",
       "19       dark        NaN           1             0  \n",
       "25   electric        NaN           1             0  \n",
       "26        ice        NaN           1             0  \n",
       "27        ice        NaN           1             0  \n",
       "36        ice        NaN           1             0  \n",
       "37        ice        NaN           1             0  \n",
       "49     ground        NaN           1             0  \n",
       "50     ground        NaN           1             0  \n",
       "51       dark        NaN           1             0  \n",
       "52       dark        NaN           1             0  \n",
       "73     ground        NaN           1             0  \n",
       "74     ground        NaN           1             0  \n",
       "75     ground        NaN           1             0  \n",
       "87     poison        NaN           1             0  \n",
       "88     poison        NaN           1             0  \n",
       "102   psychic        NaN           1             0  \n",
       "104      fire        NaN           1             0  \n",
       "719     ghost        NaN           6             1  \n",
       "744       NaN        NaN           7             0  \n",
       "\n",
       "[20 rows x 41 columns]"
      ]
     },
     "execution_count": 5,
     "metadata": {},
     "output_type": "execute_result"
    }
   ],
   "source": [
    "pokemon_df[pokemon_df['weight_kg'].isna()]"
   ]
  },
  {
   "cell_type": "code",
   "execution_count": 6,
   "id": "d5f709c8",
   "metadata": {},
   "outputs": [
    {
     "data": {
      "text/plain": [
       "801"
      ]
     },
     "execution_count": 6,
     "metadata": {},
     "output_type": "execute_result"
    }
   ],
   "source": [
    "len(pokemon_df)"
   ]
  },
  {
   "cell_type": "code",
   "execution_count": 7,
   "id": "fc993ff4",
   "metadata": {},
   "outputs": [
    {
     "data": {
      "text/plain": [
       "2.4968789013732833"
      ]
     },
     "execution_count": 7,
     "metadata": {},
     "output_type": "execute_result"
    }
   ],
   "source": [
    "# number of null values in this column makes up 2.5% of the dataset, and therefore is worth the time cleaning\n",
    "100 * len(pokemon_df[pokemon_df['weight_kg'].isna()]) / len(pokemon_df)"
   ]
  },
  {
   "cell_type": "code",
   "execution_count": 8,
   "id": "8cfcea94",
   "metadata": {},
   "outputs": [
    {
     "data": {
      "text/html": [
       "<div>\n",
       "<style scoped>\n",
       "    .dataframe tbody tr th:only-of-type {\n",
       "        vertical-align: middle;\n",
       "    }\n",
       "\n",
       "    .dataframe tbody tr th {\n",
       "        vertical-align: top;\n",
       "    }\n",
       "\n",
       "    .dataframe thead th {\n",
       "        text-align: right;\n",
       "    }\n",
       "</style>\n",
       "<table border=\"1\" class=\"dataframe\">\n",
       "  <thead>\n",
       "    <tr style=\"text-align: right;\">\n",
       "      <th></th>\n",
       "      <th>abilities</th>\n",
       "      <th>against_bug</th>\n",
       "      <th>against_dark</th>\n",
       "      <th>against_dragon</th>\n",
       "      <th>against_electric</th>\n",
       "      <th>against_fairy</th>\n",
       "      <th>against_fight</th>\n",
       "      <th>against_fire</th>\n",
       "      <th>against_flying</th>\n",
       "      <th>against_ghost</th>\n",
       "      <th>...</th>\n",
       "      <th>percentage_male</th>\n",
       "      <th>pokedex_number</th>\n",
       "      <th>sp_attack</th>\n",
       "      <th>sp_defense</th>\n",
       "      <th>speed</th>\n",
       "      <th>type1</th>\n",
       "      <th>type2</th>\n",
       "      <th>weight_kg</th>\n",
       "      <th>generation</th>\n",
       "      <th>is_legendary</th>\n",
       "    </tr>\n",
       "  </thead>\n",
       "  <tbody>\n",
       "    <tr>\n",
       "      <th>18</th>\n",
       "      <td>['Run Away', 'Guts', 'Hustle', 'Gluttony', 'Hu...</td>\n",
       "      <td>1.0</td>\n",
       "      <td>1.0</td>\n",
       "      <td>1.0</td>\n",
       "      <td>1.0</td>\n",
       "      <td>1.0</td>\n",
       "      <td>2.0</td>\n",
       "      <td>1.0</td>\n",
       "      <td>1.0</td>\n",
       "      <td>0.0</td>\n",
       "      <td>...</td>\n",
       "      <td>50.0</td>\n",
       "      <td>19</td>\n",
       "      <td>25</td>\n",
       "      <td>35</td>\n",
       "      <td>72</td>\n",
       "      <td>normal</td>\n",
       "      <td>dark</td>\n",
       "      <td>NaN</td>\n",
       "      <td>1</td>\n",
       "      <td>0</td>\n",
       "    </tr>\n",
       "    <tr>\n",
       "      <th>19</th>\n",
       "      <td>['Run Away', 'Guts', 'Hustle', 'Gluttony', 'Hu...</td>\n",
       "      <td>1.0</td>\n",
       "      <td>1.0</td>\n",
       "      <td>1.0</td>\n",
       "      <td>1.0</td>\n",
       "      <td>1.0</td>\n",
       "      <td>2.0</td>\n",
       "      <td>1.0</td>\n",
       "      <td>1.0</td>\n",
       "      <td>0.0</td>\n",
       "      <td>...</td>\n",
       "      <td>50.0</td>\n",
       "      <td>20</td>\n",
       "      <td>40</td>\n",
       "      <td>80</td>\n",
       "      <td>77</td>\n",
       "      <td>normal</td>\n",
       "      <td>dark</td>\n",
       "      <td>NaN</td>\n",
       "      <td>1</td>\n",
       "      <td>0</td>\n",
       "    </tr>\n",
       "    <tr>\n",
       "      <th>25</th>\n",
       "      <td>['Static', 'Lightningrod', 'Surge Surfer']</td>\n",
       "      <td>1.0</td>\n",
       "      <td>1.0</td>\n",
       "      <td>1.0</td>\n",
       "      <td>0.5</td>\n",
       "      <td>1.0</td>\n",
       "      <td>1.0</td>\n",
       "      <td>1.0</td>\n",
       "      <td>0.5</td>\n",
       "      <td>1.0</td>\n",
       "      <td>...</td>\n",
       "      <td>50.0</td>\n",
       "      <td>26</td>\n",
       "      <td>95</td>\n",
       "      <td>85</td>\n",
       "      <td>110</td>\n",
       "      <td>electric</td>\n",
       "      <td>electric</td>\n",
       "      <td>NaN</td>\n",
       "      <td>1</td>\n",
       "      <td>0</td>\n",
       "    </tr>\n",
       "    <tr>\n",
       "      <th>26</th>\n",
       "      <td>['Sand Veil', 'Sand Rush', 'Snow Cloak', 'Slus...</td>\n",
       "      <td>1.0</td>\n",
       "      <td>1.0</td>\n",
       "      <td>1.0</td>\n",
       "      <td>0.0</td>\n",
       "      <td>1.0</td>\n",
       "      <td>1.0</td>\n",
       "      <td>1.0</td>\n",
       "      <td>1.0</td>\n",
       "      <td>1.0</td>\n",
       "      <td>...</td>\n",
       "      <td>50.0</td>\n",
       "      <td>27</td>\n",
       "      <td>10</td>\n",
       "      <td>35</td>\n",
       "      <td>40</td>\n",
       "      <td>ground</td>\n",
       "      <td>ice</td>\n",
       "      <td>NaN</td>\n",
       "      <td>1</td>\n",
       "      <td>0</td>\n",
       "    </tr>\n",
       "    <tr>\n",
       "      <th>27</th>\n",
       "      <td>['Sand Veil', 'Sand Rush', 'Snow Cloak', 'Slus...</td>\n",
       "      <td>1.0</td>\n",
       "      <td>1.0</td>\n",
       "      <td>1.0</td>\n",
       "      <td>0.0</td>\n",
       "      <td>1.0</td>\n",
       "      <td>1.0</td>\n",
       "      <td>1.0</td>\n",
       "      <td>1.0</td>\n",
       "      <td>1.0</td>\n",
       "      <td>...</td>\n",
       "      <td>50.0</td>\n",
       "      <td>28</td>\n",
       "      <td>25</td>\n",
       "      <td>65</td>\n",
       "      <td>65</td>\n",
       "      <td>ground</td>\n",
       "      <td>ice</td>\n",
       "      <td>NaN</td>\n",
       "      <td>1</td>\n",
       "      <td>0</td>\n",
       "    </tr>\n",
       "    <tr>\n",
       "      <th>36</th>\n",
       "      <td>['Flash Fire', 'Drought', 'Snow Cloak', 'Snow ...</td>\n",
       "      <td>0.5</td>\n",
       "      <td>1.0</td>\n",
       "      <td>1.0</td>\n",
       "      <td>1.0</td>\n",
       "      <td>0.5</td>\n",
       "      <td>1.0</td>\n",
       "      <td>0.5</td>\n",
       "      <td>1.0</td>\n",
       "      <td>1.0</td>\n",
       "      <td>...</td>\n",
       "      <td>24.6</td>\n",
       "      <td>37</td>\n",
       "      <td>50</td>\n",
       "      <td>65</td>\n",
       "      <td>65</td>\n",
       "      <td>fire</td>\n",
       "      <td>ice</td>\n",
       "      <td>NaN</td>\n",
       "      <td>1</td>\n",
       "      <td>0</td>\n",
       "    </tr>\n",
       "    <tr>\n",
       "      <th>37</th>\n",
       "      <td>['Flash Fire', 'Drought', 'Snow Cloak', 'Snow ...</td>\n",
       "      <td>0.5</td>\n",
       "      <td>1.0</td>\n",
       "      <td>1.0</td>\n",
       "      <td>1.0</td>\n",
       "      <td>0.5</td>\n",
       "      <td>1.0</td>\n",
       "      <td>0.5</td>\n",
       "      <td>1.0</td>\n",
       "      <td>1.0</td>\n",
       "      <td>...</td>\n",
       "      <td>24.6</td>\n",
       "      <td>38</td>\n",
       "      <td>81</td>\n",
       "      <td>100</td>\n",
       "      <td>109</td>\n",
       "      <td>fire</td>\n",
       "      <td>ice</td>\n",
       "      <td>NaN</td>\n",
       "      <td>1</td>\n",
       "      <td>0</td>\n",
       "    </tr>\n",
       "    <tr>\n",
       "      <th>49</th>\n",
       "      <td>['Sand Veil', 'Arena Trap', 'Sand Force', 'San...</td>\n",
       "      <td>1.0</td>\n",
       "      <td>1.0</td>\n",
       "      <td>1.0</td>\n",
       "      <td>0.0</td>\n",
       "      <td>1.0</td>\n",
       "      <td>1.0</td>\n",
       "      <td>1.0</td>\n",
       "      <td>1.0</td>\n",
       "      <td>1.0</td>\n",
       "      <td>...</td>\n",
       "      <td>50.0</td>\n",
       "      <td>50</td>\n",
       "      <td>35</td>\n",
       "      <td>45</td>\n",
       "      <td>90</td>\n",
       "      <td>ground</td>\n",
       "      <td>ground</td>\n",
       "      <td>NaN</td>\n",
       "      <td>1</td>\n",
       "      <td>0</td>\n",
       "    </tr>\n",
       "    <tr>\n",
       "      <th>50</th>\n",
       "      <td>['Sand Veil', 'Arena Trap', 'Sand Force', 'San...</td>\n",
       "      <td>1.0</td>\n",
       "      <td>1.0</td>\n",
       "      <td>1.0</td>\n",
       "      <td>0.0</td>\n",
       "      <td>1.0</td>\n",
       "      <td>1.0</td>\n",
       "      <td>1.0</td>\n",
       "      <td>1.0</td>\n",
       "      <td>1.0</td>\n",
       "      <td>...</td>\n",
       "      <td>50.0</td>\n",
       "      <td>51</td>\n",
       "      <td>50</td>\n",
       "      <td>70</td>\n",
       "      <td>110</td>\n",
       "      <td>ground</td>\n",
       "      <td>ground</td>\n",
       "      <td>NaN</td>\n",
       "      <td>1</td>\n",
       "      <td>0</td>\n",
       "    </tr>\n",
       "    <tr>\n",
       "      <th>51</th>\n",
       "      <td>['Pickup', 'Technician', 'Unnerve', 'Pickup', ...</td>\n",
       "      <td>1.0</td>\n",
       "      <td>1.0</td>\n",
       "      <td>1.0</td>\n",
       "      <td>1.0</td>\n",
       "      <td>1.0</td>\n",
       "      <td>2.0</td>\n",
       "      <td>1.0</td>\n",
       "      <td>1.0</td>\n",
       "      <td>0.0</td>\n",
       "      <td>...</td>\n",
       "      <td>50.0</td>\n",
       "      <td>52</td>\n",
       "      <td>50</td>\n",
       "      <td>40</td>\n",
       "      <td>90</td>\n",
       "      <td>normal</td>\n",
       "      <td>dark</td>\n",
       "      <td>NaN</td>\n",
       "      <td>1</td>\n",
       "      <td>0</td>\n",
       "    </tr>\n",
       "    <tr>\n",
       "      <th>52</th>\n",
       "      <td>['Limber', 'Technician', 'Unnerve', 'Fur Coat'...</td>\n",
       "      <td>1.0</td>\n",
       "      <td>1.0</td>\n",
       "      <td>1.0</td>\n",
       "      <td>1.0</td>\n",
       "      <td>1.0</td>\n",
       "      <td>2.0</td>\n",
       "      <td>1.0</td>\n",
       "      <td>1.0</td>\n",
       "      <td>0.0</td>\n",
       "      <td>...</td>\n",
       "      <td>50.0</td>\n",
       "      <td>53</td>\n",
       "      <td>75</td>\n",
       "      <td>65</td>\n",
       "      <td>115</td>\n",
       "      <td>normal</td>\n",
       "      <td>dark</td>\n",
       "      <td>NaN</td>\n",
       "      <td>1</td>\n",
       "      <td>0</td>\n",
       "    </tr>\n",
       "    <tr>\n",
       "      <th>73</th>\n",
       "      <td>['Rock Head', 'Sturdy', 'Sand Veil', 'Magnet P...</td>\n",
       "      <td>1.0</td>\n",
       "      <td>1.0</td>\n",
       "      <td>1.0</td>\n",
       "      <td>0.0</td>\n",
       "      <td>1.0</td>\n",
       "      <td>2.0</td>\n",
       "      <td>0.5</td>\n",
       "      <td>0.5</td>\n",
       "      <td>1.0</td>\n",
       "      <td>...</td>\n",
       "      <td>50.0</td>\n",
       "      <td>74</td>\n",
       "      <td>30</td>\n",
       "      <td>30</td>\n",
       "      <td>20</td>\n",
       "      <td>rock</td>\n",
       "      <td>ground</td>\n",
       "      <td>NaN</td>\n",
       "      <td>1</td>\n",
       "      <td>0</td>\n",
       "    </tr>\n",
       "    <tr>\n",
       "      <th>74</th>\n",
       "      <td>['Rock Head', 'Sturdy', 'Sand Veil', 'Magnet P...</td>\n",
       "      <td>1.0</td>\n",
       "      <td>1.0</td>\n",
       "      <td>1.0</td>\n",
       "      <td>0.0</td>\n",
       "      <td>1.0</td>\n",
       "      <td>2.0</td>\n",
       "      <td>0.5</td>\n",
       "      <td>0.5</td>\n",
       "      <td>1.0</td>\n",
       "      <td>...</td>\n",
       "      <td>50.0</td>\n",
       "      <td>75</td>\n",
       "      <td>45</td>\n",
       "      <td>45</td>\n",
       "      <td>35</td>\n",
       "      <td>rock</td>\n",
       "      <td>ground</td>\n",
       "      <td>NaN</td>\n",
       "      <td>1</td>\n",
       "      <td>0</td>\n",
       "    </tr>\n",
       "    <tr>\n",
       "      <th>75</th>\n",
       "      <td>['Rock Head', 'Sturdy', 'Sand Veil', 'Magnet P...</td>\n",
       "      <td>1.0</td>\n",
       "      <td>1.0</td>\n",
       "      <td>1.0</td>\n",
       "      <td>0.0</td>\n",
       "      <td>1.0</td>\n",
       "      <td>2.0</td>\n",
       "      <td>0.5</td>\n",
       "      <td>0.5</td>\n",
       "      <td>1.0</td>\n",
       "      <td>...</td>\n",
       "      <td>50.0</td>\n",
       "      <td>76</td>\n",
       "      <td>55</td>\n",
       "      <td>65</td>\n",
       "      <td>45</td>\n",
       "      <td>rock</td>\n",
       "      <td>ground</td>\n",
       "      <td>NaN</td>\n",
       "      <td>1</td>\n",
       "      <td>0</td>\n",
       "    </tr>\n",
       "    <tr>\n",
       "      <th>87</th>\n",
       "      <td>['Stench', 'Sticky Hold', 'Poison Touch', 'Poi...</td>\n",
       "      <td>0.5</td>\n",
       "      <td>1.0</td>\n",
       "      <td>1.0</td>\n",
       "      <td>1.0</td>\n",
       "      <td>0.5</td>\n",
       "      <td>0.5</td>\n",
       "      <td>1.0</td>\n",
       "      <td>1.0</td>\n",
       "      <td>1.0</td>\n",
       "      <td>...</td>\n",
       "      <td>50.0</td>\n",
       "      <td>88</td>\n",
       "      <td>40</td>\n",
       "      <td>50</td>\n",
       "      <td>25</td>\n",
       "      <td>poison</td>\n",
       "      <td>poison</td>\n",
       "      <td>NaN</td>\n",
       "      <td>1</td>\n",
       "      <td>0</td>\n",
       "    </tr>\n",
       "    <tr>\n",
       "      <th>88</th>\n",
       "      <td>['Stench', 'Sticky Hold', 'Poison Touch', 'Poi...</td>\n",
       "      <td>0.5</td>\n",
       "      <td>1.0</td>\n",
       "      <td>1.0</td>\n",
       "      <td>1.0</td>\n",
       "      <td>0.5</td>\n",
       "      <td>0.5</td>\n",
       "      <td>1.0</td>\n",
       "      <td>1.0</td>\n",
       "      <td>1.0</td>\n",
       "      <td>...</td>\n",
       "      <td>50.0</td>\n",
       "      <td>89</td>\n",
       "      <td>65</td>\n",
       "      <td>100</td>\n",
       "      <td>50</td>\n",
       "      <td>poison</td>\n",
       "      <td>poison</td>\n",
       "      <td>NaN</td>\n",
       "      <td>1</td>\n",
       "      <td>0</td>\n",
       "    </tr>\n",
       "    <tr>\n",
       "      <th>102</th>\n",
       "      <td>['Chlorophyll', 'Harvest', 'Frisk', 'Harvest']</td>\n",
       "      <td>4.0</td>\n",
       "      <td>2.0</td>\n",
       "      <td>1.0</td>\n",
       "      <td>0.5</td>\n",
       "      <td>1.0</td>\n",
       "      <td>0.5</td>\n",
       "      <td>2.0</td>\n",
       "      <td>2.0</td>\n",
       "      <td>2.0</td>\n",
       "      <td>...</td>\n",
       "      <td>50.0</td>\n",
       "      <td>103</td>\n",
       "      <td>125</td>\n",
       "      <td>75</td>\n",
       "      <td>45</td>\n",
       "      <td>grass</td>\n",
       "      <td>psychic</td>\n",
       "      <td>NaN</td>\n",
       "      <td>1</td>\n",
       "      <td>0</td>\n",
       "    </tr>\n",
       "    <tr>\n",
       "      <th>104</th>\n",
       "      <td>['Rock Head', 'Lightningrod', 'Battle Armor', ...</td>\n",
       "      <td>1.0</td>\n",
       "      <td>1.0</td>\n",
       "      <td>1.0</td>\n",
       "      <td>0.0</td>\n",
       "      <td>1.0</td>\n",
       "      <td>1.0</td>\n",
       "      <td>1.0</td>\n",
       "      <td>1.0</td>\n",
       "      <td>1.0</td>\n",
       "      <td>...</td>\n",
       "      <td>50.0</td>\n",
       "      <td>105</td>\n",
       "      <td>50</td>\n",
       "      <td>80</td>\n",
       "      <td>45</td>\n",
       "      <td>ground</td>\n",
       "      <td>fire</td>\n",
       "      <td>NaN</td>\n",
       "      <td>1</td>\n",
       "      <td>0</td>\n",
       "    </tr>\n",
       "    <tr>\n",
       "      <th>719</th>\n",
       "      <td>['Magician']</td>\n",
       "      <td>1.0</td>\n",
       "      <td>4.0</td>\n",
       "      <td>1.0</td>\n",
       "      <td>1.0</td>\n",
       "      <td>1.0</td>\n",
       "      <td>0.0</td>\n",
       "      <td>1.0</td>\n",
       "      <td>1.0</td>\n",
       "      <td>4.0</td>\n",
       "      <td>...</td>\n",
       "      <td>NaN</td>\n",
       "      <td>720</td>\n",
       "      <td>170</td>\n",
       "      <td>130</td>\n",
       "      <td>80</td>\n",
       "      <td>psychic</td>\n",
       "      <td>ghost</td>\n",
       "      <td>NaN</td>\n",
       "      <td>6</td>\n",
       "      <td>1</td>\n",
       "    </tr>\n",
       "    <tr>\n",
       "      <th>744</th>\n",
       "      <td>['Keen Eye', 'Sand Rush', 'Steadfast', 'Keen E...</td>\n",
       "      <td>1.0</td>\n",
       "      <td>1.0</td>\n",
       "      <td>1.0</td>\n",
       "      <td>1.0</td>\n",
       "      <td>1.0</td>\n",
       "      <td>2.0</td>\n",
       "      <td>0.5</td>\n",
       "      <td>0.5</td>\n",
       "      <td>1.0</td>\n",
       "      <td>...</td>\n",
       "      <td>50.0</td>\n",
       "      <td>745</td>\n",
       "      <td>55</td>\n",
       "      <td>75</td>\n",
       "      <td>82</td>\n",
       "      <td>rock</td>\n",
       "      <td>NaN</td>\n",
       "      <td>NaN</td>\n",
       "      <td>7</td>\n",
       "      <td>0</td>\n",
       "    </tr>\n",
       "  </tbody>\n",
       "</table>\n",
       "<p>20 rows × 41 columns</p>\n",
       "</div>"
      ],
      "text/plain": [
       "                                             abilities  against_bug  \\\n",
       "18   ['Run Away', 'Guts', 'Hustle', 'Gluttony', 'Hu...          1.0   \n",
       "19   ['Run Away', 'Guts', 'Hustle', 'Gluttony', 'Hu...          1.0   \n",
       "25          ['Static', 'Lightningrod', 'Surge Surfer']          1.0   \n",
       "26   ['Sand Veil', 'Sand Rush', 'Snow Cloak', 'Slus...          1.0   \n",
       "27   ['Sand Veil', 'Sand Rush', 'Snow Cloak', 'Slus...          1.0   \n",
       "36   ['Flash Fire', 'Drought', 'Snow Cloak', 'Snow ...          0.5   \n",
       "37   ['Flash Fire', 'Drought', 'Snow Cloak', 'Snow ...          0.5   \n",
       "49   ['Sand Veil', 'Arena Trap', 'Sand Force', 'San...          1.0   \n",
       "50   ['Sand Veil', 'Arena Trap', 'Sand Force', 'San...          1.0   \n",
       "51   ['Pickup', 'Technician', 'Unnerve', 'Pickup', ...          1.0   \n",
       "52   ['Limber', 'Technician', 'Unnerve', 'Fur Coat'...          1.0   \n",
       "73   ['Rock Head', 'Sturdy', 'Sand Veil', 'Magnet P...          1.0   \n",
       "74   ['Rock Head', 'Sturdy', 'Sand Veil', 'Magnet P...          1.0   \n",
       "75   ['Rock Head', 'Sturdy', 'Sand Veil', 'Magnet P...          1.0   \n",
       "87   ['Stench', 'Sticky Hold', 'Poison Touch', 'Poi...          0.5   \n",
       "88   ['Stench', 'Sticky Hold', 'Poison Touch', 'Poi...          0.5   \n",
       "102     ['Chlorophyll', 'Harvest', 'Frisk', 'Harvest']          4.0   \n",
       "104  ['Rock Head', 'Lightningrod', 'Battle Armor', ...          1.0   \n",
       "719                                       ['Magician']          1.0   \n",
       "744  ['Keen Eye', 'Sand Rush', 'Steadfast', 'Keen E...          1.0   \n",
       "\n",
       "     against_dark  against_dragon  against_electric  against_fairy  \\\n",
       "18            1.0             1.0               1.0            1.0   \n",
       "19            1.0             1.0               1.0            1.0   \n",
       "25            1.0             1.0               0.5            1.0   \n",
       "26            1.0             1.0               0.0            1.0   \n",
       "27            1.0             1.0               0.0            1.0   \n",
       "36            1.0             1.0               1.0            0.5   \n",
       "37            1.0             1.0               1.0            0.5   \n",
       "49            1.0             1.0               0.0            1.0   \n",
       "50            1.0             1.0               0.0            1.0   \n",
       "51            1.0             1.0               1.0            1.0   \n",
       "52            1.0             1.0               1.0            1.0   \n",
       "73            1.0             1.0               0.0            1.0   \n",
       "74            1.0             1.0               0.0            1.0   \n",
       "75            1.0             1.0               0.0            1.0   \n",
       "87            1.0             1.0               1.0            0.5   \n",
       "88            1.0             1.0               1.0            0.5   \n",
       "102           2.0             1.0               0.5            1.0   \n",
       "104           1.0             1.0               0.0            1.0   \n",
       "719           4.0             1.0               1.0            1.0   \n",
       "744           1.0             1.0               1.0            1.0   \n",
       "\n",
       "     against_fight  against_fire  against_flying  against_ghost  ...  \\\n",
       "18             2.0           1.0             1.0            0.0  ...   \n",
       "19             2.0           1.0             1.0            0.0  ...   \n",
       "25             1.0           1.0             0.5            1.0  ...   \n",
       "26             1.0           1.0             1.0            1.0  ...   \n",
       "27             1.0           1.0             1.0            1.0  ...   \n",
       "36             1.0           0.5             1.0            1.0  ...   \n",
       "37             1.0           0.5             1.0            1.0  ...   \n",
       "49             1.0           1.0             1.0            1.0  ...   \n",
       "50             1.0           1.0             1.0            1.0  ...   \n",
       "51             2.0           1.0             1.0            0.0  ...   \n",
       "52             2.0           1.0             1.0            0.0  ...   \n",
       "73             2.0           0.5             0.5            1.0  ...   \n",
       "74             2.0           0.5             0.5            1.0  ...   \n",
       "75             2.0           0.5             0.5            1.0  ...   \n",
       "87             0.5           1.0             1.0            1.0  ...   \n",
       "88             0.5           1.0             1.0            1.0  ...   \n",
       "102            0.5           2.0             2.0            2.0  ...   \n",
       "104            1.0           1.0             1.0            1.0  ...   \n",
       "719            0.0           1.0             1.0            4.0  ...   \n",
       "744            2.0           0.5             0.5            1.0  ...   \n",
       "\n",
       "     percentage_male  pokedex_number  sp_attack  sp_defense  speed     type1  \\\n",
       "18              50.0              19         25          35     72    normal   \n",
       "19              50.0              20         40          80     77    normal   \n",
       "25              50.0              26         95          85    110  electric   \n",
       "26              50.0              27         10          35     40    ground   \n",
       "27              50.0              28         25          65     65    ground   \n",
       "36              24.6              37         50          65     65      fire   \n",
       "37              24.6              38         81         100    109      fire   \n",
       "49              50.0              50         35          45     90    ground   \n",
       "50              50.0              51         50          70    110    ground   \n",
       "51              50.0              52         50          40     90    normal   \n",
       "52              50.0              53         75          65    115    normal   \n",
       "73              50.0              74         30          30     20      rock   \n",
       "74              50.0              75         45          45     35      rock   \n",
       "75              50.0              76         55          65     45      rock   \n",
       "87              50.0              88         40          50     25    poison   \n",
       "88              50.0              89         65         100     50    poison   \n",
       "102             50.0             103        125          75     45     grass   \n",
       "104             50.0             105         50          80     45    ground   \n",
       "719              NaN             720        170         130     80   psychic   \n",
       "744             50.0             745         55          75     82      rock   \n",
       "\n",
       "        type2  weight_kg  generation  is_legendary  \n",
       "18       dark        NaN           1             0  \n",
       "19       dark        NaN           1             0  \n",
       "25   electric        NaN           1             0  \n",
       "26        ice        NaN           1             0  \n",
       "27        ice        NaN           1             0  \n",
       "36        ice        NaN           1             0  \n",
       "37        ice        NaN           1             0  \n",
       "49     ground        NaN           1             0  \n",
       "50     ground        NaN           1             0  \n",
       "51       dark        NaN           1             0  \n",
       "52       dark        NaN           1             0  \n",
       "73     ground        NaN           1             0  \n",
       "74     ground        NaN           1             0  \n",
       "75     ground        NaN           1             0  \n",
       "87     poison        NaN           1             0  \n",
       "88     poison        NaN           1             0  \n",
       "102   psychic        NaN           1             0  \n",
       "104      fire        NaN           1             0  \n",
       "719     ghost        NaN           6             1  \n",
       "744       NaN        NaN           7             0  \n",
       "\n",
       "[20 rows x 41 columns]"
      ]
     },
     "execution_count": 8,
     "metadata": {},
     "output_type": "execute_result"
    }
   ],
   "source": [
    "pokemon_df[pokemon_df['height_m'].isna()]"
   ]
  },
  {
   "cell_type": "code",
   "execution_count": 9,
   "id": "06ae4475",
   "metadata": {},
   "outputs": [
    {
     "data": {
      "text/html": [
       "<div>\n",
       "<style scoped>\n",
       "    .dataframe tbody tr th:only-of-type {\n",
       "        vertical-align: middle;\n",
       "    }\n",
       "\n",
       "    .dataframe tbody tr th {\n",
       "        vertical-align: top;\n",
       "    }\n",
       "\n",
       "    .dataframe thead th {\n",
       "        text-align: right;\n",
       "    }\n",
       "</style>\n",
       "<table border=\"1\" class=\"dataframe\">\n",
       "  <thead>\n",
       "    <tr style=\"text-align: right;\">\n",
       "      <th></th>\n",
       "      <th>abilities</th>\n",
       "      <th>against_bug</th>\n",
       "      <th>against_dark</th>\n",
       "      <th>against_dragon</th>\n",
       "      <th>against_electric</th>\n",
       "      <th>against_fairy</th>\n",
       "      <th>against_fight</th>\n",
       "      <th>against_fire</th>\n",
       "      <th>against_flying</th>\n",
       "      <th>against_ghost</th>\n",
       "      <th>...</th>\n",
       "      <th>percentage_male</th>\n",
       "      <th>pokedex_number</th>\n",
       "      <th>sp_attack</th>\n",
       "      <th>sp_defense</th>\n",
       "      <th>speed</th>\n",
       "      <th>type1</th>\n",
       "      <th>type2</th>\n",
       "      <th>weight_kg</th>\n",
       "      <th>generation</th>\n",
       "      <th>is_legendary</th>\n",
       "    </tr>\n",
       "  </thead>\n",
       "  <tbody>\n",
       "    <tr>\n",
       "      <th>80</th>\n",
       "      <td>['Magnet Pull', 'Sturdy', 'Analytic']</td>\n",
       "      <td>0.50</td>\n",
       "      <td>1.0</td>\n",
       "      <td>0.5</td>\n",
       "      <td>0.5</td>\n",
       "      <td>0.5</td>\n",
       "      <td>2.0</td>\n",
       "      <td>2.0</td>\n",
       "      <td>0.25</td>\n",
       "      <td>1.0</td>\n",
       "      <td>...</td>\n",
       "      <td>NaN</td>\n",
       "      <td>81</td>\n",
       "      <td>95</td>\n",
       "      <td>55</td>\n",
       "      <td>45</td>\n",
       "      <td>electric</td>\n",
       "      <td>steel</td>\n",
       "      <td>6.0</td>\n",
       "      <td>1</td>\n",
       "      <td>0</td>\n",
       "    </tr>\n",
       "    <tr>\n",
       "      <th>81</th>\n",
       "      <td>['Magnet Pull', 'Sturdy', 'Analytic']</td>\n",
       "      <td>0.50</td>\n",
       "      <td>1.0</td>\n",
       "      <td>0.5</td>\n",
       "      <td>0.5</td>\n",
       "      <td>0.5</td>\n",
       "      <td>2.0</td>\n",
       "      <td>2.0</td>\n",
       "      <td>0.25</td>\n",
       "      <td>1.0</td>\n",
       "      <td>...</td>\n",
       "      <td>NaN</td>\n",
       "      <td>82</td>\n",
       "      <td>120</td>\n",
       "      <td>70</td>\n",
       "      <td>70</td>\n",
       "      <td>electric</td>\n",
       "      <td>steel</td>\n",
       "      <td>60.0</td>\n",
       "      <td>1</td>\n",
       "      <td>0</td>\n",
       "    </tr>\n",
       "    <tr>\n",
       "      <th>99</th>\n",
       "      <td>['Soundproof', 'Static', 'Aftermath']</td>\n",
       "      <td>1.00</td>\n",
       "      <td>1.0</td>\n",
       "      <td>1.0</td>\n",
       "      <td>0.5</td>\n",
       "      <td>1.0</td>\n",
       "      <td>1.0</td>\n",
       "      <td>1.0</td>\n",
       "      <td>0.50</td>\n",
       "      <td>1.0</td>\n",
       "      <td>...</td>\n",
       "      <td>NaN</td>\n",
       "      <td>100</td>\n",
       "      <td>55</td>\n",
       "      <td>55</td>\n",
       "      <td>100</td>\n",
       "      <td>electric</td>\n",
       "      <td>NaN</td>\n",
       "      <td>10.4</td>\n",
       "      <td>1</td>\n",
       "      <td>0</td>\n",
       "    </tr>\n",
       "    <tr>\n",
       "      <th>100</th>\n",
       "      <td>['Soundproof', 'Static', 'Aftermath']</td>\n",
       "      <td>1.00</td>\n",
       "      <td>1.0</td>\n",
       "      <td>1.0</td>\n",
       "      <td>0.5</td>\n",
       "      <td>1.0</td>\n",
       "      <td>1.0</td>\n",
       "      <td>1.0</td>\n",
       "      <td>0.50</td>\n",
       "      <td>1.0</td>\n",
       "      <td>...</td>\n",
       "      <td>NaN</td>\n",
       "      <td>101</td>\n",
       "      <td>80</td>\n",
       "      <td>80</td>\n",
       "      <td>150</td>\n",
       "      <td>electric</td>\n",
       "      <td>NaN</td>\n",
       "      <td>66.6</td>\n",
       "      <td>1</td>\n",
       "      <td>0</td>\n",
       "    </tr>\n",
       "    <tr>\n",
       "      <th>119</th>\n",
       "      <td>['Illuminate', 'Natural Cure', 'Analytic']</td>\n",
       "      <td>1.00</td>\n",
       "      <td>1.0</td>\n",
       "      <td>1.0</td>\n",
       "      <td>2.0</td>\n",
       "      <td>1.0</td>\n",
       "      <td>1.0</td>\n",
       "      <td>0.5</td>\n",
       "      <td>1.00</td>\n",
       "      <td>1.0</td>\n",
       "      <td>...</td>\n",
       "      <td>NaN</td>\n",
       "      <td>120</td>\n",
       "      <td>70</td>\n",
       "      <td>55</td>\n",
       "      <td>85</td>\n",
       "      <td>water</td>\n",
       "      <td>NaN</td>\n",
       "      <td>34.5</td>\n",
       "      <td>1</td>\n",
       "      <td>0</td>\n",
       "    </tr>\n",
       "    <tr>\n",
       "      <th>...</th>\n",
       "      <td>...</td>\n",
       "      <td>...</td>\n",
       "      <td>...</td>\n",
       "      <td>...</td>\n",
       "      <td>...</td>\n",
       "      <td>...</td>\n",
       "      <td>...</td>\n",
       "      <td>...</td>\n",
       "      <td>...</td>\n",
       "      <td>...</td>\n",
       "      <td>...</td>\n",
       "      <td>...</td>\n",
       "      <td>...</td>\n",
       "      <td>...</td>\n",
       "      <td>...</td>\n",
       "      <td>...</td>\n",
       "      <td>...</td>\n",
       "      <td>...</td>\n",
       "      <td>...</td>\n",
       "      <td>...</td>\n",
       "      <td>...</td>\n",
       "    </tr>\n",
       "    <tr>\n",
       "      <th>796</th>\n",
       "      <td>['Beast Boost']</td>\n",
       "      <td>0.25</td>\n",
       "      <td>1.0</td>\n",
       "      <td>0.5</td>\n",
       "      <td>2.0</td>\n",
       "      <td>0.5</td>\n",
       "      <td>1.0</td>\n",
       "      <td>2.0</td>\n",
       "      <td>0.50</td>\n",
       "      <td>1.0</td>\n",
       "      <td>...</td>\n",
       "      <td>NaN</td>\n",
       "      <td>797</td>\n",
       "      <td>107</td>\n",
       "      <td>101</td>\n",
       "      <td>61</td>\n",
       "      <td>steel</td>\n",
       "      <td>flying</td>\n",
       "      <td>999.9</td>\n",
       "      <td>7</td>\n",
       "      <td>1</td>\n",
       "    </tr>\n",
       "    <tr>\n",
       "      <th>797</th>\n",
       "      <td>['Beast Boost']</td>\n",
       "      <td>1.00</td>\n",
       "      <td>1.0</td>\n",
       "      <td>0.5</td>\n",
       "      <td>0.5</td>\n",
       "      <td>0.5</td>\n",
       "      <td>2.0</td>\n",
       "      <td>4.0</td>\n",
       "      <td>1.00</td>\n",
       "      <td>1.0</td>\n",
       "      <td>...</td>\n",
       "      <td>NaN</td>\n",
       "      <td>798</td>\n",
       "      <td>59</td>\n",
       "      <td>31</td>\n",
       "      <td>109</td>\n",
       "      <td>grass</td>\n",
       "      <td>steel</td>\n",
       "      <td>0.1</td>\n",
       "      <td>7</td>\n",
       "      <td>1</td>\n",
       "    </tr>\n",
       "    <tr>\n",
       "      <th>798</th>\n",
       "      <td>['Beast Boost']</td>\n",
       "      <td>2.00</td>\n",
       "      <td>0.5</td>\n",
       "      <td>2.0</td>\n",
       "      <td>0.5</td>\n",
       "      <td>4.0</td>\n",
       "      <td>2.0</td>\n",
       "      <td>0.5</td>\n",
       "      <td>1.00</td>\n",
       "      <td>0.5</td>\n",
       "      <td>...</td>\n",
       "      <td>NaN</td>\n",
       "      <td>799</td>\n",
       "      <td>97</td>\n",
       "      <td>53</td>\n",
       "      <td>43</td>\n",
       "      <td>dark</td>\n",
       "      <td>dragon</td>\n",
       "      <td>888.0</td>\n",
       "      <td>7</td>\n",
       "      <td>1</td>\n",
       "    </tr>\n",
       "    <tr>\n",
       "      <th>799</th>\n",
       "      <td>['Prism Armor']</td>\n",
       "      <td>2.00</td>\n",
       "      <td>2.0</td>\n",
       "      <td>1.0</td>\n",
       "      <td>1.0</td>\n",
       "      <td>1.0</td>\n",
       "      <td>0.5</td>\n",
       "      <td>1.0</td>\n",
       "      <td>1.00</td>\n",
       "      <td>2.0</td>\n",
       "      <td>...</td>\n",
       "      <td>NaN</td>\n",
       "      <td>800</td>\n",
       "      <td>127</td>\n",
       "      <td>89</td>\n",
       "      <td>79</td>\n",
       "      <td>psychic</td>\n",
       "      <td>NaN</td>\n",
       "      <td>230.0</td>\n",
       "      <td>7</td>\n",
       "      <td>1</td>\n",
       "    </tr>\n",
       "    <tr>\n",
       "      <th>800</th>\n",
       "      <td>['Soul-Heart']</td>\n",
       "      <td>0.25</td>\n",
       "      <td>0.5</td>\n",
       "      <td>0.0</td>\n",
       "      <td>1.0</td>\n",
       "      <td>0.5</td>\n",
       "      <td>1.0</td>\n",
       "      <td>2.0</td>\n",
       "      <td>0.50</td>\n",
       "      <td>1.0</td>\n",
       "      <td>...</td>\n",
       "      <td>NaN</td>\n",
       "      <td>801</td>\n",
       "      <td>130</td>\n",
       "      <td>115</td>\n",
       "      <td>65</td>\n",
       "      <td>steel</td>\n",
       "      <td>fairy</td>\n",
       "      <td>80.5</td>\n",
       "      <td>7</td>\n",
       "      <td>1</td>\n",
       "    </tr>\n",
       "  </tbody>\n",
       "</table>\n",
       "<p>98 rows × 41 columns</p>\n",
       "</div>"
      ],
      "text/plain": [
       "                                      abilities  against_bug  against_dark  \\\n",
       "80        ['Magnet Pull', 'Sturdy', 'Analytic']         0.50           1.0   \n",
       "81        ['Magnet Pull', 'Sturdy', 'Analytic']         0.50           1.0   \n",
       "99        ['Soundproof', 'Static', 'Aftermath']         1.00           1.0   \n",
       "100       ['Soundproof', 'Static', 'Aftermath']         1.00           1.0   \n",
       "119  ['Illuminate', 'Natural Cure', 'Analytic']         1.00           1.0   \n",
       "..                                          ...          ...           ...   \n",
       "796                             ['Beast Boost']         0.25           1.0   \n",
       "797                             ['Beast Boost']         1.00           1.0   \n",
       "798                             ['Beast Boost']         2.00           0.5   \n",
       "799                             ['Prism Armor']         2.00           2.0   \n",
       "800                              ['Soul-Heart']         0.25           0.5   \n",
       "\n",
       "     against_dragon  against_electric  against_fairy  against_fight  \\\n",
       "80              0.5               0.5            0.5            2.0   \n",
       "81              0.5               0.5            0.5            2.0   \n",
       "99              1.0               0.5            1.0            1.0   \n",
       "100             1.0               0.5            1.0            1.0   \n",
       "119             1.0               2.0            1.0            1.0   \n",
       "..              ...               ...            ...            ...   \n",
       "796             0.5               2.0            0.5            1.0   \n",
       "797             0.5               0.5            0.5            2.0   \n",
       "798             2.0               0.5            4.0            2.0   \n",
       "799             1.0               1.0            1.0            0.5   \n",
       "800             0.0               1.0            0.5            1.0   \n",
       "\n",
       "     against_fire  against_flying  against_ghost  ...  percentage_male  \\\n",
       "80            2.0            0.25            1.0  ...              NaN   \n",
       "81            2.0            0.25            1.0  ...              NaN   \n",
       "99            1.0            0.50            1.0  ...              NaN   \n",
       "100           1.0            0.50            1.0  ...              NaN   \n",
       "119           0.5            1.00            1.0  ...              NaN   \n",
       "..            ...             ...            ...  ...              ...   \n",
       "796           2.0            0.50            1.0  ...              NaN   \n",
       "797           4.0            1.00            1.0  ...              NaN   \n",
       "798           0.5            1.00            0.5  ...              NaN   \n",
       "799           1.0            1.00            2.0  ...              NaN   \n",
       "800           2.0            0.50            1.0  ...              NaN   \n",
       "\n",
       "     pokedex_number  sp_attack  sp_defense  speed     type1   type2  \\\n",
       "80               81         95          55     45  electric   steel   \n",
       "81               82        120          70     70  electric   steel   \n",
       "99              100         55          55    100  electric     NaN   \n",
       "100             101         80          80    150  electric     NaN   \n",
       "119             120         70          55     85     water     NaN   \n",
       "..              ...        ...         ...    ...       ...     ...   \n",
       "796             797        107         101     61     steel  flying   \n",
       "797             798         59          31    109     grass   steel   \n",
       "798             799         97          53     43      dark  dragon   \n",
       "799             800        127          89     79   psychic     NaN   \n",
       "800             801        130         115     65     steel   fairy   \n",
       "\n",
       "     weight_kg  generation  is_legendary  \n",
       "80         6.0           1             0  \n",
       "81        60.0           1             0  \n",
       "99        10.4           1             0  \n",
       "100       66.6           1             0  \n",
       "119       34.5           1             0  \n",
       "..         ...         ...           ...  \n",
       "796      999.9           7             1  \n",
       "797        0.1           7             1  \n",
       "798      888.0           7             1  \n",
       "799      230.0           7             1  \n",
       "800       80.5           7             1  \n",
       "\n",
       "[98 rows x 41 columns]"
      ]
     },
     "execution_count": 9,
     "metadata": {},
     "output_type": "execute_result"
    }
   ],
   "source": [
    "pokemon_df[pokemon_df['percentage_male'].isna()]"
   ]
  },
  {
   "cell_type": "code",
   "execution_count": 10,
   "id": "6cb9f99c",
   "metadata": {},
   "outputs": [
    {
     "data": {
      "text/plain": [
       "31"
      ]
     },
     "execution_count": 10,
     "metadata": {},
     "output_type": "execute_result"
    }
   ],
   "source": [
    "pokemon_df.columns.get_loc('percentage_male')"
   ]
  },
  {
   "cell_type": "code",
   "execution_count": 11,
   "id": "b25396a5",
   "metadata": {},
   "outputs": [
    {
     "data": {
      "text/plain": [
       "False"
      ]
     },
     "execution_count": 11,
     "metadata": {},
     "output_type": "execute_result"
    }
   ],
   "source": [
    "# removed percentage_male column; will undo this in future\n",
    "clean_pokemon_df = pokemon_df.loc[:,pokemon_df.columns != 'percentage_male']\n",
    "'percentage_male' in clean_pokemon_df.columns"
   ]
  },
  {
   "cell_type": "code",
   "execution_count": 12,
   "id": "064b5506",
   "metadata": {},
   "outputs": [
    {
     "data": {
      "text/plain": [
       "abilities              0\n",
       "against_bug            0\n",
       "against_dark           0\n",
       "against_dragon         0\n",
       "against_electric       0\n",
       "against_fairy          0\n",
       "against_fight          0\n",
       "against_fire           0\n",
       "against_flying         0\n",
       "against_ghost          0\n",
       "against_grass          0\n",
       "against_ground         0\n",
       "against_ice            0\n",
       "against_normal         0\n",
       "against_poison         0\n",
       "against_psychic        0\n",
       "against_rock           0\n",
       "against_steel          0\n",
       "against_water          0\n",
       "attack                 0\n",
       "base_egg_steps         0\n",
       "base_happiness         0\n",
       "base_total             0\n",
       "capture_rate           0\n",
       "classfication          0\n",
       "defense                0\n",
       "experience_growth      0\n",
       "height_m              20\n",
       "hp                     0\n",
       "japanese_name          0\n",
       "name                   0\n",
       "pokedex_number         0\n",
       "sp_attack              0\n",
       "sp_defense             0\n",
       "speed                  0\n",
       "type1                  0\n",
       "type2                384\n",
       "weight_kg             20\n",
       "generation             0\n",
       "is_legendary           0\n",
       "dtype: int64"
      ]
     },
     "execution_count": 12,
     "metadata": {},
     "output_type": "execute_result"
    }
   ],
   "source": [
    "clean_pokemon_df.isnull().sum()"
   ]
  },
  {
   "cell_type": "code",
   "execution_count": null,
   "id": "393c12f5",
   "metadata": {},
   "outputs": [],
   "source": []
  },
  {
   "cell_type": "code",
   "execution_count": 13,
   "id": "114e8c1c",
   "metadata": {},
   "outputs": [
    {
     "data": {
      "text/plain": [
       "18       Rattata\n",
       "19      Raticate\n",
       "25        Raichu\n",
       "26     Sandshrew\n",
       "27     Sandslash\n",
       "36        Vulpix\n",
       "37     Ninetales\n",
       "49       Diglett\n",
       "50       Dugtrio\n",
       "51        Meowth\n",
       "52       Persian\n",
       "73       Geodude\n",
       "74      Graveler\n",
       "75         Golem\n",
       "87        Grimer\n",
       "88           Muk\n",
       "102    Exeggutor\n",
       "104      Marowak\n",
       "719        Hoopa\n",
       "744     Lycanroc\n",
       "Name: name, dtype: object"
      ]
     },
     "execution_count": 13,
     "metadata": {},
     "output_type": "execute_result"
    }
   ],
   "source": [
    "# name of all pokemon with no height\n",
    "pokemon_df[pokemon_df['height_m'].isna()]['name']"
   ]
  },
  {
   "cell_type": "code",
   "execution_count": 14,
   "id": "29b89389",
   "metadata": {},
   "outputs": [
    {
     "name": "stderr",
     "output_type": "stream",
     "text": [
      "/Users/johnwhendricks/opt/anaconda3/envs/PythonData/lib/python3.7/site-packages/pandas/core/indexing.py:1817: SettingWithCopyWarning: \n",
      "A value is trying to be set on a copy of a slice from a DataFrame.\n",
      "Try using .loc[row_indexer,col_indexer] = value instead\n",
      "\n",
      "See the caveats in the documentation: https://pandas.pydata.org/pandas-docs/stable/user_guide/indexing.html#returning-a-view-versus-a-copy\n",
      "  self._setitem_single_column(loc, value, pi)\n"
     ]
    }
   ],
   "source": [
    "# added all of the weights manually\n",
    "clean_pokemon_df.loc[18,'height_m'] = 0.3 \n",
    "clean_pokemon_df.loc[18,'weight_kg'] = 3.5 "
   ]
  },
  {
   "cell_type": "code",
   "execution_count": 15,
   "id": "6e99d2e2",
   "metadata": {},
   "outputs": [
    {
     "data": {
      "text/plain": [
       "0.3"
      ]
     },
     "execution_count": 15,
     "metadata": {},
     "output_type": "execute_result"
    }
   ],
   "source": [
    "clean_pokemon_df.loc[18,'height_m']"
   ]
  },
  {
   "cell_type": "code",
   "execution_count": 16,
   "id": "4411090b",
   "metadata": {},
   "outputs": [],
   "source": [
    "clean_pokemon_df.loc[19,'height_m'] = 0.7 \n",
    "clean_pokemon_df.loc[19,'weight_kg'] = 18.5"
   ]
  },
  {
   "cell_type": "code",
   "execution_count": 17,
   "id": "883ee8db",
   "metadata": {},
   "outputs": [],
   "source": [
    "clean_pokemon_df.loc[25,'height_m'] = 0.8 \n",
    "clean_pokemon_df.loc[25,'weight_kg'] = 30.0"
   ]
  },
  {
   "cell_type": "code",
   "execution_count": 18,
   "id": "c60af204",
   "metadata": {},
   "outputs": [],
   "source": [
    "clean_pokemon_df.loc[26,'height_m'] = 0.6 \n",
    "clean_pokemon_df.loc[26,'weight_kg'] = 12.0"
   ]
  },
  {
   "cell_type": "code",
   "execution_count": 19,
   "id": "3635a24b",
   "metadata": {},
   "outputs": [],
   "source": [
    "clean_pokemon_df.loc[27,'height_m'] = 1.0 \n",
    "clean_pokemon_df.loc[27,'weight_kg'] = 29.5"
   ]
  },
  {
   "cell_type": "code",
   "execution_count": 20,
   "id": "c72a07fe",
   "metadata": {},
   "outputs": [],
   "source": [
    "clean_pokemon_df.loc[36,'height_m'] = 0.6\n",
    "clean_pokemon_df.loc[36,'weight_kg'] = 9.9"
   ]
  },
  {
   "cell_type": "code",
   "execution_count": 21,
   "id": "5634d607",
   "metadata": {},
   "outputs": [],
   "source": [
    "clean_pokemon_df.loc[37,'height_m'] = 1.1\n",
    "clean_pokemon_df.loc[37,'weight_kg'] = 19.9"
   ]
  },
  {
   "cell_type": "code",
   "execution_count": 22,
   "id": "1b7cbeaf",
   "metadata": {},
   "outputs": [],
   "source": [
    "clean_pokemon_df.loc[49,'height_m'] = 0.2 \n",
    "clean_pokemon_df.loc[49,'weight_kg'] = 0.8"
   ]
  },
  {
   "cell_type": "code",
   "execution_count": 23,
   "id": "7fea8ad8",
   "metadata": {},
   "outputs": [],
   "source": [
    "clean_pokemon_df.loc[50,'height_m'] = 0.7\n",
    "clean_pokemon_df.loc[50,'weight_kg'] = 33.3"
   ]
  },
  {
   "cell_type": "code",
   "execution_count": 24,
   "id": "7e15f200",
   "metadata": {},
   "outputs": [],
   "source": [
    "clean_pokemon_df.loc[51,'height_m'] = 0.4\n",
    "clean_pokemon_df.loc[51,'weight_kg'] = 4.2"
   ]
  },
  {
   "cell_type": "code",
   "execution_count": 25,
   "id": "46a052ed",
   "metadata": {},
   "outputs": [],
   "source": [
    "clean_pokemon_df.loc[52,'height_m'] = 1.0\n",
    "clean_pokemon_df.loc[52,'weight_kg'] = 32.0"
   ]
  },
  {
   "cell_type": "code",
   "execution_count": 26,
   "id": "6090ca02",
   "metadata": {},
   "outputs": [],
   "source": [
    "clean_pokemon_df.loc[73,'height_m'] = 0.4\n",
    "clean_pokemon_df.loc[73,'weight_kg'] = 20.0"
   ]
  },
  {
   "cell_type": "code",
   "execution_count": 27,
   "id": "e5055b70",
   "metadata": {},
   "outputs": [],
   "source": [
    "clean_pokemon_df.loc[74,'height_m'] = 1.0\n",
    "clean_pokemon_df.loc[74,'weight_kg'] = 105.0"
   ]
  },
  {
   "cell_type": "code",
   "execution_count": 28,
   "id": "8761ecb5",
   "metadata": {},
   "outputs": [],
   "source": [
    "clean_pokemon_df.loc[75,'height_m'] = 1.4\n",
    "clean_pokemon_df.loc[75,'weight_kg'] = 300.0"
   ]
  },
  {
   "cell_type": "code",
   "execution_count": 29,
   "id": "45a424bd",
   "metadata": {},
   "outputs": [],
   "source": [
    "clean_pokemon_df.loc[87,'height_m'] = 0.9\n",
    "clean_pokemon_df.loc[87,'weight_kg'] = 30.0"
   ]
  },
  {
   "cell_type": "code",
   "execution_count": 30,
   "id": "2086bf1f",
   "metadata": {},
   "outputs": [],
   "source": [
    "clean_pokemon_df.loc[88,'height_m'] = 1.2\n",
    "clean_pokemon_df.loc[88,'weight_kg'] = 30.0"
   ]
  },
  {
   "cell_type": "code",
   "execution_count": 31,
   "id": "72f7113b",
   "metadata": {},
   "outputs": [],
   "source": [
    "clean_pokemon_df.loc[102,'height_m'] = 2.0\n",
    "clean_pokemon_df.loc[102,'weight_kg'] = 120.0"
   ]
  },
  {
   "cell_type": "code",
   "execution_count": 32,
   "id": "7b53e3f2",
   "metadata": {},
   "outputs": [],
   "source": [
    "clean_pokemon_df.loc[104,'height_m'] = 1.0\n",
    "clean_pokemon_df.loc[104,'weight_kg'] = 45.0"
   ]
  },
  {
   "cell_type": "code",
   "execution_count": 33,
   "id": "c42e5188",
   "metadata": {},
   "outputs": [],
   "source": [
    "clean_pokemon_df.loc[719,'height_m'] = 0.5\n",
    "clean_pokemon_df.loc[719,'weight_kg'] = 9.0"
   ]
  },
  {
   "cell_type": "code",
   "execution_count": 34,
   "id": "9719f469",
   "metadata": {},
   "outputs": [],
   "source": [
    "clean_pokemon_df.loc[744,'height_m'] = 0.9\n",
    "clean_pokemon_df.loc[744,'weight_kg'] = 25.0"
   ]
  },
  {
   "cell_type": "code",
   "execution_count": 35,
   "id": "684ff08e",
   "metadata": {},
   "outputs": [
    {
     "data": {
      "text/plain": [
       "abilities              0\n",
       "against_bug            0\n",
       "against_dark           0\n",
       "against_dragon         0\n",
       "against_electric       0\n",
       "against_fairy          0\n",
       "against_fight          0\n",
       "against_fire           0\n",
       "against_flying         0\n",
       "against_ghost          0\n",
       "against_grass          0\n",
       "against_ground         0\n",
       "against_ice            0\n",
       "against_normal         0\n",
       "against_poison         0\n",
       "against_psychic        0\n",
       "against_rock           0\n",
       "against_steel          0\n",
       "against_water          0\n",
       "attack                 0\n",
       "base_egg_steps         0\n",
       "base_happiness         0\n",
       "base_total             0\n",
       "capture_rate           0\n",
       "classfication          0\n",
       "defense                0\n",
       "experience_growth      0\n",
       "height_m               0\n",
       "hp                     0\n",
       "japanese_name          0\n",
       "name                   0\n",
       "pokedex_number         0\n",
       "sp_attack              0\n",
       "sp_defense             0\n",
       "speed                  0\n",
       "type1                  0\n",
       "type2                384\n",
       "weight_kg              0\n",
       "generation             0\n",
       "is_legendary           0\n",
       "dtype: int64"
      ]
     },
     "execution_count": 35,
     "metadata": {},
     "output_type": "execute_result"
    }
   ],
   "source": [
    "# data is clean\n",
    "clean_pokemon_df.isnull().sum()"
   ]
  },
  {
   "cell_type": "code",
   "execution_count": 36,
   "id": "832affd5",
   "metadata": {},
   "outputs": [],
   "source": [
    "# replace null values with \"None\"\n",
    "clean_pokemon_df = clean_pokemon_df.replace(np.nan, 'none')"
   ]
  },
  {
   "cell_type": "code",
   "execution_count": 73,
   "id": "c823a586",
   "metadata": {},
   "outputs": [
    {
     "data": {
      "text/plain": [
       "'30'"
      ]
     },
     "execution_count": 73,
     "metadata": {},
     "output_type": "execute_result"
    }
   ],
   "source": [
    "# cleaned values in row 773\n",
    "clean_pokemon_df.iloc[773,23] = '30'\n",
    "clean_pokemon_df.iloc[773,23]"
   ]
  },
  {
   "cell_type": "code",
   "execution_count": 78,
   "id": "644af345",
   "metadata": {},
   "outputs": [
    {
     "data": {
      "text/plain": [
       "abilities             object\n",
       "against_bug          float64\n",
       "against_dark         float64\n",
       "against_dragon       float64\n",
       "against_electric     float64\n",
       "against_fairy        float64\n",
       "against_fight        float64\n",
       "against_fire         float64\n",
       "against_flying       float64\n",
       "against_ghost        float64\n",
       "against_grass        float64\n",
       "against_ground       float64\n",
       "against_ice          float64\n",
       "against_normal       float64\n",
       "against_poison       float64\n",
       "against_psychic      float64\n",
       "against_rock         float64\n",
       "against_steel        float64\n",
       "against_water        float64\n",
       "attack                 int64\n",
       "base_egg_steps         int64\n",
       "base_happiness         int64\n",
       "base_total             int64\n",
       "capture_rate           int64\n",
       "classfication         object\n",
       "defense                int64\n",
       "experience_growth      int64\n",
       "height_m             float64\n",
       "hp                     int64\n",
       "japanese_name         object\n",
       "name                  object\n",
       "pokedex_number         int64\n",
       "sp_attack              int64\n",
       "sp_defense             int64\n",
       "speed                  int64\n",
       "type1                 object\n",
       "type2                 object\n",
       "weight_kg            float64\n",
       "generation             int64\n",
       "is_legendary           int64\n",
       "dtype: object"
      ]
     },
     "execution_count": 78,
     "metadata": {},
     "output_type": "execute_result"
    }
   ],
   "source": [
    "clean_pokemon_df=clean_pokemon_df.astype({'capture_rate':int})\n",
    "clean_pokemon_df.dtypes"
   ]
  },
  {
   "cell_type": "code",
   "execution_count": 38,
   "id": "e5232166",
   "metadata": {},
   "outputs": [
    {
     "data": {
      "text/plain": [
       "abilities            0\n",
       "against_bug          0\n",
       "against_dark         0\n",
       "against_dragon       0\n",
       "against_electric     0\n",
       "against_fairy        0\n",
       "against_fight        0\n",
       "against_fire         0\n",
       "against_flying       0\n",
       "against_ghost        0\n",
       "against_grass        0\n",
       "against_ground       0\n",
       "against_ice          0\n",
       "against_normal       0\n",
       "against_poison       0\n",
       "against_psychic      0\n",
       "against_rock         0\n",
       "against_steel        0\n",
       "against_water        0\n",
       "attack               0\n",
       "base_egg_steps       0\n",
       "base_happiness       0\n",
       "base_total           0\n",
       "capture_rate         0\n",
       "classfication        0\n",
       "defense              0\n",
       "experience_growth    0\n",
       "height_m             0\n",
       "hp                   0\n",
       "japanese_name        0\n",
       "name                 0\n",
       "pokedex_number       0\n",
       "sp_attack            0\n",
       "sp_defense           0\n",
       "speed                0\n",
       "type1                0\n",
       "type2                0\n",
       "weight_kg            0\n",
       "generation           0\n",
       "is_legendary         0\n",
       "dtype: int64"
      ]
     },
     "execution_count": 38,
     "metadata": {},
     "output_type": "execute_result"
    }
   ],
   "source": [
    "clean_pokemon_df.isnull().sum()"
   ]
  },
  {
   "cell_type": "code",
   "execution_count": 44,
   "id": "892971b0",
   "metadata": {},
   "outputs": [
    {
     "name": "stdout",
     "output_type": "stream",
     "text": [
      "r value: 0.0453511986460209\n"
     ]
    },
    {
     "data": {
      "image/png": "[encoded data removed]",
      "text/plain": [
       "<Figure size 432x288 with 1 Axes>"
      ]
     },
     "metadata": {
      "needs_background": "light"
     },
     "output_type": "display_data"
    }
   ],
   "source": [
    "(slope, intercept, r_value, p_value, std_err) = linregress(clean_pokemon_df['weight_kg'].values.tolist(), clean_pokemon_df['speed'].values.tolist())\n",
    "line_eq = \"y = \" + str(round(slope,2)) + \"x + \" + str(round(intercept,2))\n",
    "regress_values = [(weight * slope + intercept) for weight in clean_pokemon_df['weight_kg'].values.tolist()]\n",
    "plt.scatter(clean_pokemon_df['weight_kg'],clean_pokemon_df['speed'], s = 0.6, alpha = 0.8)\n",
    "plt.plot(clean_pokemon_df['weight_kg'].values.tolist(),regress_values,\"r\")\n",
    "plt.annotate(line_eq, (10,40), fontsize=15, color=\"red\")\n",
    "print(f\"r value: {r_value}\")\n",
    "plt.show()"
   ]
  },
  {
   "cell_type": "code",
   "execution_count": 45,
   "id": "5a854276",
   "metadata": {},
   "outputs": [
    {
     "name": "stdout",
     "output_type": "stream",
     "text": [
      "r value: 0.6264207002953233\n"
     ]
    },
    {
     "data": {
      "image/png": "[encoded data removed]",
      "text/plain": [
       "<Figure size 432x288 with 1 Axes>"
      ]
     },
     "metadata": {
      "needs_background": "light"
     },
     "output_type": "display_data"
    }
   ],
   "source": [
    "(slope, intercept, r_value, p_value, std_err) = linregress(clean_pokemon_df['height_m'].values.tolist(), clean_pokemon_df['weight_kg'].values.tolist())\n",
    "line_eq = \"y = \" + str(round(slope,2)) + \"x + \" + str(round(intercept,2))\n",
    "regress_values = [(height * slope + intercept) for height in clean_pokemon_df['height_m'].values.tolist()]\n",
    "plt.scatter(clean_pokemon_df['height_m'],clean_pokemon_df['weight_kg'], s = 0.6, alpha = 0.8)\n",
    "plt.plot(clean_pokemon_df['height_m'].values.tolist(),regress_values,\"r\")\n",
    "plt.annotate(line_eq, (10,40), fontsize=15, color=\"red\")\n",
    "print(f\"r value: {r_value}\")\n",
    "plt.show()"
   ]
  },
  {
   "cell_type": "code",
   "execution_count": 46,
   "id": "64f264d4",
   "metadata": {},
   "outputs": [
    {
     "name": "stdout",
     "output_type": "stream",
     "text": [
      "r value: 0.3681539995495992\n"
     ]
    },
    {
     "data": {
      "image/png": "[encoded data removed]",
      "text/plain": [
       "<Figure size 432x288 with 1 Axes>"
      ]
     },
     "metadata": {
      "needs_background": "light"
     },
     "output_type": "display_data"
    }
   ],
   "source": [
    "(slope, intercept, r_value, p_value, std_err) = linregress(clean_pokemon_df['attack'].values.tolist(), clean_pokemon_df['sp_attack'].values.tolist())\n",
    "line_eq = \"y = \" + str(round(slope,2)) + \"x + \" + str(round(intercept,2))\n",
    "regress_values = [(a * slope + intercept) for a in clean_pokemon_df['attack'].values.tolist()]\n",
    "plt.scatter(clean_pokemon_df['attack'],clean_pokemon_df['sp_attack'], s = 0.6, alpha = 0.8)\n",
    "plt.plot(clean_pokemon_df['attack'].values.tolist(),regress_values,\"r\")\n",
    "plt.annotate(line_eq, (10,40), fontsize=15, color=\"red\")\n",
    "print(f\"r value: {r_value}\")\n",
    "plt.show()"
   ]
  },
  {
   "cell_type": "code",
   "execution_count": 47,
   "id": "2d862209",
   "metadata": {},
   "outputs": [
    {
     "name": "stdout",
     "output_type": "stream",
     "text": [
      "r value: 0.4689149139189303\n"
     ]
    },
    {
     "data": {
      "image/png": "[encoded data removed]",
      "text/plain": [
       "<Figure size 432x288 with 1 Axes>"
      ]
     },
     "metadata": {
      "needs_background": "light"
     },
     "output_type": "display_data"
    }
   ],
   "source": [
    "(slope, intercept, r_value, p_value, std_err) = linregress(clean_pokemon_df['attack'].values.tolist(), clean_pokemon_df['defense'].values.tolist())\n",
    "line_eq = \"y = \" + str(round(slope,2)) + \"x + \" + str(round(intercept,2))\n",
    "regress_values = [(a * slope + intercept) for a in clean_pokemon_df['attack'].values.tolist()]\n",
    "plt.scatter(clean_pokemon_df['attack'],clean_pokemon_df['defense'], s = 0.6, alpha = 0.8)\n",
    "plt.plot(clean_pokemon_df['attack'].values.tolist(),regress_values,\"r\")\n",
    "plt.annotate(line_eq, (10,40), fontsize=15, color=\"red\")\n",
    "print(f\"r value: {r_value}\")\n",
    "plt.show()"
   ]
  },
  {
   "cell_type": "code",
   "execution_count": 48,
   "id": "ded1b5ee",
   "metadata": {},
   "outputs": [
    {
     "name": "stdout",
     "output_type": "stream",
     "text": [
      "r value: 0.5263482757215798\n"
     ]
    },
    {
     "data": {
      "image/png": "[encoded data removed]",
      "text/plain": [
       "<Figure size 432x288 with 1 Axes>"
      ]
     },
     "metadata": {
      "needs_background": "light"
     },
     "output_type": "display_data"
    }
   ],
   "source": [
    "(slope, intercept, r_value, p_value, std_err) = linregress(clean_pokemon_df['defense'].values.tolist(), clean_pokemon_df['sp_defense'].values.tolist())\n",
    "line_eq = \"y = \" + str(round(slope,2)) + \"x + \" + str(round(intercept,2))\n",
    "regress_values = [(a * slope + intercept) for a in clean_pokemon_df['defense'].values.tolist()]\n",
    "plt.scatter(clean_pokemon_df['defense'],clean_pokemon_df['sp_defense'], s = 0.6, alpha = 0.8)\n",
    "plt.plot(clean_pokemon_df['defense'].values.tolist(),regress_values,\"r\")\n",
    "plt.annotate(line_eq, (10,40), fontsize=15, color=\"red\")\n",
    "print(f\"r value: {r_value}\")\n",
    "plt.show()"
   ]
  },
  {
   "cell_type": "code",
   "execution_count": 49,
   "id": "cc599a22",
   "metadata": {},
   "outputs": [
    {
     "data": {
      "text/plain": [
       "<matplotlib.collections.PathCollection at 0x7fbe7621e310>"
      ]
     },
     "execution_count": 49,
     "metadata": {},
     "output_type": "execute_result"
    },
    {
     "data": {
      "image/png": "[encoded data removed]",
      "text/plain": [
       "<Figure size 432x288 with 1 Axes>"
      ]
     },
     "metadata": {
      "needs_background": "light"
     },
     "output_type": "display_data"
    }
   ],
   "source": [
    "plt.scatter(clean_pokemon_df['defense'],clean_pokemon_df['attack'] / clean_pokemon_df['sp_attack'] ,s = 0.6, alpha = 0.8 )"
   ]
  },
  {
   "cell_type": "code",
   "execution_count": 50,
   "id": "55886b3b",
   "metadata": {},
   "outputs": [
    {
     "data": {
      "text/plain": [
       "<matplotlib.collections.PathCollection at 0x7fbe7c3cb850>"
      ]
     },
     "execution_count": 50,
     "metadata": {},
     "output_type": "execute_result"
    },
    {
     "data": {
      "image/png": "[encoded data removed]",
      "text/plain": [
       "<Figure size 432x288 with 1 Axes>"
      ]
     },
     "metadata": {
      "needs_background": "light"
     },
     "output_type": "display_data"
    }
   ],
   "source": [
    "plt.scatter(clean_pokemon_df['base_total'],clean_pokemon_df['attack'] / clean_pokemon_df['sp_attack'] ,s = 0.6, alpha = 0.8 )"
   ]
  },
  {
   "cell_type": "code",
   "execution_count": null,
   "id": "589b1440",
   "metadata": {},
   "outputs": [],
   "source": []
  },
  {
   "cell_type": "code",
   "execution_count": 51,
   "id": "3cd49145",
   "metadata": {},
   "outputs": [
    {
     "data": {
      "text/plain": [
       "is_legendary\n",
       "0    67.865937\n",
       "1    39.214286\n",
       "Name: base_happiness, dtype: float64"
      ]
     },
     "execution_count": 51,
     "metadata": {},
     "output_type": "execute_result"
    }
   ],
   "source": [
    "happiness = clean_pokemon_df.groupby('is_legendary').mean()['base_happiness']\n",
    "happiness"
   ]
  },
  {
   "cell_type": "code",
   "execution_count": 52,
   "id": "a8ec17b6",
   "metadata": {},
   "outputs": [
    {
     "data": {
      "text/plain": [
       "67.86593707250341"
      ]
     },
     "execution_count": 52,
     "metadata": {},
     "output_type": "execute_result"
    }
   ],
   "source": [
    "happiness[0]"
   ]
  },
  {
   "cell_type": "code",
   "execution_count": 53,
   "id": "f344c34d",
   "metadata": {},
   "outputs": [
    {
     "data": {
      "text/plain": [
       "<BarContainer object of 2 artists>"
      ]
     },
     "execution_count": 53,
     "metadata": {},
     "output_type": "execute_result"
    },
    {
     "data": {
      "image/png": "[encoded data removed]",
      "text/plain": [
       "<Figure size 432x288 with 1 Axes>"
      ]
     },
     "metadata": {
      "needs_background": "light"
     },
     "output_type": "display_data"
    }
   ],
   "source": [
    "plt.bar(['not legendary', 'legendary'],[happiness[0], happiness[1]])"
   ]
  },
  {
   "cell_type": "code",
   "execution_count": 54,
   "id": "3bf2f9e5",
   "metadata": {},
   "outputs": [
    {
     "data": {
      "text/plain": [
       "<BarContainer object of 2 artists>"
      ]
     },
     "execution_count": 54,
     "metadata": {},
     "output_type": "execute_result"
    },
    {
     "data": {
      "image/png": "[encoded data removed]",
      "text/plain": [
       "<Figure size 432x288 with 1 Axes>"
      ]
     },
     "metadata": {
      "needs_background": "light"
     },
     "output_type": "display_data"
    }
   ],
   "source": [
    "base_tot = clean_pokemon_df.groupby('is_legendary').mean()['base_total']\n",
    "plt.bar(['not legendary', 'legendary'],[base_tot[0], base_tot[1]])"
   ]
  },
  {
   "cell_type": "code",
   "execution_count": 79,
   "id": "f1af00a3",
   "metadata": {},
   "outputs": [
    {
     "data": {
      "text/plain": [
       "<BarContainer object of 2 artists>"
      ]
     },
     "execution_count": 79,
     "metadata": {},
     "output_type": "execute_result"
    },
    {
     "data": {
      "image/png": "[encoded data removed]",
      "text/plain": [
       "<Figure size 432x288 with 1 Axes>"
      ]
     },
     "metadata": {
      "needs_background": "light"
     },
     "output_type": "display_data"
    }
   ],
   "source": [
    "capt_rate = clean_pokemon_df.groupby('is_legendary').mean()['capture_rate']\n",
    "plt.bar(['not legendary', 'legendary'],[capt_rate[0], capt_rate[1]])"
   ]
  },
  {
   "cell_type": "code",
   "execution_count": null,
   "id": "b4a1fdd4",
   "metadata": {},
   "outputs": [],
   "source": []
  },
  {
   "cell_type": "code",
   "execution_count": null,
   "id": "4216eb6d",
   "metadata": {},
   "outputs": [],
   "source": []
  },
  {
   "cell_type": "code",
   "execution_count": null,
   "id": "57392df5",
   "metadata": {},
   "outputs": [],
   "source": []
  },
  {
   "cell_type": "code",
   "execution_count": null,
   "id": "43584801",
   "metadata": {},
   "outputs": [],
   "source": [
    "generations = clean_pokemon_df.groupby('generation').count()\n",
    "generations"
   ]
  },
  {
   "cell_type": "code",
   "execution_count": null,
   "id": "06cff221",
   "metadata": {},
   "outputs": [],
   "source": [
    "generations_list = generations.index.tolist()"
   ]
  },
  {
   "cell_type": "code",
   "execution_count": null,
   "id": "dde9e2d3",
   "metadata": {},
   "outputs": [],
   "source": [
    "generations['name']"
   ]
  },
  {
   "cell_type": "code",
   "execution_count": null,
   "id": "24dd7052",
   "metadata": {},
   "outputs": [],
   "source": [
    "plt.bar(generations_list, generations['name'])"
   ]
  },
  {
   "cell_type": "code",
   "execution_count": null,
   "id": "aa2d1329",
   "metadata": {},
   "outputs": [],
   "source": [
    "plt.scatter(generations_list, generations['name'])"
   ]
  },
  {
   "cell_type": "code",
   "execution_count": null,
   "id": "e04a2aeb",
   "metadata": {},
   "outputs": [],
   "source": [
    "clean_pokemon_df"
   ]
  },
  {
   "cell_type": "code",
   "execution_count": null,
   "id": "4d94abef",
   "metadata": {},
   "outputs": [],
   "source": [
    "clean_pokemon_df.corr().iloc[:,18:]"
   ]
  },
  {
   "cell_type": "code",
   "execution_count": null,
   "id": "8bf262e9",
   "metadata": {},
   "outputs": [],
   "source": [
    "rarity_dict = {0:'blue', 1:'red'}\n",
    "plt.scatter(clean_pokemon_df['hp'],clean_pokemon_df['attack'], c = clean_pokemon_df['is_legendary'].map(rarity_dict), alpha=0.5)"
   ]
  },
  {
   "cell_type": "code",
   "execution_count": null,
   "id": "e6bffe5c",
   "metadata": {},
   "outputs": [],
   "source": [
    "typing_info = clean_pokemon_df.groupby('type1').mean().iloc[:,18:]\n",
    "typing_info"
   ]
  },
  {
   "cell_type": "code",
   "execution_count": null,
   "id": "bae2bea9",
   "metadata": {},
   "outputs": [],
   "source": [
    "types = typing_info.index.tolist()\n",
    "types"
   ]
  },
  {
   "cell_type": "code",
   "execution_count": null,
   "id": "324bb87b",
   "metadata": {},
   "outputs": [],
   "source": [
    "plt.bar(types,typing_info['defense'])\n",
    "plt.xticks(rotation = 45)"
   ]
  },
  {
   "cell_type": "code",
   "execution_count": null,
   "id": "06be9560",
   "metadata": {},
   "outputs": [],
   "source": [
    "typing_info"
   ]
  },
  {
   "cell_type": "code",
   "execution_count": null,
   "id": "c9465622",
   "metadata": {},
   "outputs": [],
   "source": [
    "count_type = clean_pokemon_df.groupby('type1').count()\n",
    "count_type"
   ]
  },
  {
   "cell_type": "code",
   "execution_count": null,
   "id": "c33554a4",
   "metadata": {},
   "outputs": [],
   "source": [
    "total = count_type['name'].sum()"
   ]
  },
  {
   "cell_type": "code",
   "execution_count": null,
   "id": "295451cc",
   "metadata": {},
   "outputs": [],
   "source": [
    "type_pct = round(count_type['name'] / total * 100,1)\n",
    "type_pct"
   ]
  },
  {
   "cell_type": "code",
   "execution_count": null,
   "id": "625d4e75",
   "metadata": {},
   "outputs": [],
   "source": [
    "type_pct.values.tolist()"
   ]
  },
  {
   "cell_type": "code",
   "execution_count": null,
   "id": "06ec8116",
   "metadata": {},
   "outputs": [],
   "source": [
    "plt.bar(type_pct.index.tolist(), type_pct.values.tolist())\n",
    "plt.xticks(rotation = 60)"
   ]
  },
  {
   "cell_type": "code",
   "execution_count": null,
   "id": "63222ed3",
   "metadata": {},
   "outputs": [],
   "source": [
    "df = clean_pokemon_df.copy()"
   ]
  },
  {
   "cell_type": "code",
   "execution_count": null,
   "id": "752949dc",
   "metadata": {},
   "outputs": [],
   "source": [
    "df.groupby(['type1','type2']).count().head(30)"
   ]
  },
  {
   "cell_type": "code",
   "execution_count": null,
   "id": "094c21a1",
   "metadata": {},
   "outputs": [],
   "source": [
    "clean_pokemon_df[(clean_pokemon_df['type1'] == 'fire') | (clean_pokemon_df['type2'] == 'fire')]"
   ]
  },
  {
   "cell_type": "code",
   "execution_count": null,
   "id": "6c58912a",
   "metadata": {},
   "outputs": [],
   "source": [
    "types = count_type.index.tolist()\n",
    "types"
   ]
  },
  {
   "cell_type": "code",
   "execution_count": null,
   "id": "b2d527bf",
   "metadata": {},
   "outputs": [],
   "source": [
    "type_dict = dict()\n",
    "for _type in types:\n",
    "    type_dict[_type] = clean_pokemon_df[(clean_pokemon_df['type1'] == _type) | (clean_pokemon_df['type2'] == _type)]"
   ]
  },
  {
   "cell_type": "code",
   "execution_count": null,
   "id": "3cd77bcc",
   "metadata": {},
   "outputs": [],
   "source": []
  },
  {
   "cell_type": "code",
   "execution_count": null,
   "id": "11e79249",
   "metadata": {},
   "outputs": [],
   "source": [
    "len(type_dict['bug'])"
   ]
  },
  {
   "cell_type": "code",
   "execution_count": null,
   "id": "4adfccf9",
   "metadata": {},
   "outputs": [],
   "source": [
    "types"
   ]
  },
  {
   "cell_type": "code",
   "execution_count": null,
   "id": "ebfda6e0",
   "metadata": {},
   "outputs": [],
   "source": [
    "num_list = []\n",
    "for _type in types:\n",
    "    length = len(type_dict[_type])\n",
    "    num_list.append(length)\n",
    "num_list"
   ]
  },
  {
   "cell_type": "code",
   "execution_count": null,
   "id": "f7d72b5f",
   "metadata": {},
   "outputs": [],
   "source": [
    "pct_list = num_list / total * 100\n",
    "pct_list.tolist()"
   ]
  },
  {
   "cell_type": "code",
   "execution_count": null,
   "id": "bf020629",
   "metadata": {},
   "outputs": [],
   "source": [
    "plt.bar(types, pct_list.tolist())\n",
    "plt.xticks(rotation = 65)"
   ]
  },
  {
   "cell_type": "code",
   "execution_count": null,
   "id": "bfb146f3",
   "metadata": {},
   "outputs": [],
   "source": [
    "clean_pokemon_df.base_total"
   ]
  },
  {
   "cell_type": "code",
   "execution_count": null,
   "id": "b3026f3f",
   "metadata": {},
   "outputs": [],
   "source": [
    "type_dict['bug']['base_total'].mean()"
   ]
  },
  {
   "cell_type": "code",
   "execution_count": null,
   "id": "9dcaea44",
   "metadata": {},
   "outputs": [],
   "source": [
    "types_base_total = list()\n",
    "for _type in types:\n",
    "    _mean = type_dict[_type]['base_total'].mean()\n",
    "    types_base_total.append(round(_mean,0))\n",
    "\n",
    "plt.bar(types, types_base_total)\n",
    "plt.xticks(rotation = 65)\n",
    "plt.ylim(300, 520)"
   ]
  },
  {
   "cell_type": "code",
   "execution_count": null,
   "id": "b8629a4d",
   "metadata": {},
   "outputs": [],
   "source": [
    "types_attack = list()\n",
    "for _type in types:\n",
    "    _mean = type_dict[_type]['attack'].mean()\n",
    "    types_attack.append(round(_mean,0))\n",
    "\n",
    "plt.bar(types, types_attack)\n",
    "plt.xticks(rotation = 65)\n",
    "plt.ylim(40,110)"
   ]
  },
  {
   "cell_type": "code",
   "execution_count": null,
   "id": "b4b1a759",
   "metadata": {},
   "outputs": [],
   "source": [
    "types_weight = list()\n",
    "for _type in types:\n",
    "    _mean = type_dict[_type]['weight_kg'].mean()\n",
    "    types_weight.append(round(_mean,0))\n",
    "\n",
    "plt.bar(types, types_weight)\n",
    "plt.xticks(rotation = 65)"
   ]
  },
  {
   "cell_type": "code",
   "execution_count": null,
   "id": "58343890",
   "metadata": {},
   "outputs": [],
   "source": [
    "types_height = list()\n",
    "for _type in types:\n",
    "    _mean = type_dict[_type]['height_m'].mean()\n",
    "    types_height.append(_mean)\n",
    "\n",
    "plt.bar(types, types_height)\n",
    "plt.xticks(rotation = 65)"
   ]
  },
  {
   "cell_type": "code",
   "execution_count": null,
   "id": "ed66f66b",
   "metadata": {},
   "outputs": [],
   "source": [
    "clean_pokemon_df"
   ]
  },
  {
   "cell_type": "code",
   "execution_count": null,
   "id": "fd815d12",
   "metadata": {},
   "outputs": [],
   "source": [
    "the_list = clean_pokemon_df.abilities.values\n",
    "the_list"
   ]
  },
  {
   "cell_type": "code",
   "execution_count": null,
   "id": "e810e9e3",
   "metadata": {},
   "outputs": [],
   "source": [
    "counter = 1\n",
    "abilities_list = []\n",
    "for l in the_list:\n",
    "    abilities = l.split(',')\n",
    "    for ability in abilities:\n",
    "        match = re.search(pattern=r'[A-Z][a-z]+', string = ability)\n",
    "        if match is not None:\n",
    "            print(match.group())\n",
    "            if match.group() not in abilities_list:\n",
    "                abilities_list.append(match.group())\n",
    "        else:\n",
    "            print(match)\n",
    "        "
   ]
  },
  {
   "cell_type": "code",
   "execution_count": null,
   "id": "f0fab0f4",
   "metadata": {},
   "outputs": [],
   "source": [
    "abilities_list"
   ]
  },
  {
   "cell_type": "code",
   "execution_count": null,
   "id": "de8ed864",
   "metadata": {},
   "outputs": [],
   "source": [
    "clean_pokemon_df.head(20)"
   ]
  },
  {
   "cell_type": "code",
   "execution_count": null,
   "id": "e127d550",
   "metadata": {},
   "outputs": [],
   "source": [
    "df['abilities']=df['abilities'].str.strip('\\\"[')"
   ]
  },
  {
   "cell_type": "code",
   "execution_count": null,
   "id": "d61e71da",
   "metadata": {},
   "outputs": [],
   "source": [
    "df['abilities'] = df['abilities'].str.strip(']\\\"')"
   ]
  },
  {
   "cell_type": "code",
   "execution_count": null,
   "id": "523db621",
   "metadata": {},
   "outputs": [],
   "source": [
    "df['abilities'] = df['abilities'].str.split(',')"
   ]
  },
  {
   "cell_type": "code",
   "execution_count": null,
   "id": "0fb4fec3",
   "metadata": {},
   "outputs": [],
   "source": [
    "df['abilities']"
   ]
  },
  {
   "cell_type": "code",
   "execution_count": null,
   "id": "faf769f9",
   "metadata": {},
   "outputs": [],
   "source": [
    "df['ability1'] = None\n",
    "df['ability2'] = None\n",
    "df['ability3'] = None\n",
    "df['ability4'] = None\n",
    "df['ability5'] = None\n",
    "df['ability6'] = None"
   ]
  },
  {
   "cell_type": "code",
   "execution_count": null,
   "id": "f6b4786d",
   "metadata": {},
   "outputs": [],
   "source": [
    "index = 0\n",
    "maximum = 0\n",
    "all_list = []\n",
    "for row in df.iterrows():\n",
    "    abilities = row[1][0]\n",
    "    if len(abilities) > maximum:\n",
    "        maximum = len(abilities)\n",
    "    type_counter = 1\n",
    "    for ability in abilities:\n",
    "        all_list.append(ability)\n",
    "        if type_counter == 1:\n",
    "            df.iloc[index, 40] = ability\n",
    "        elif type_counter == 2:\n",
    "            df.iloc[index, 41] = ability\n",
    "        elif type_counter == 3:\n",
    "            df.iloc[index, 42] = ability\n",
    "        elif type_counter == 4:\n",
    "            df.iloc[index, 43] = ability\n",
    "        elif type_counter == 5:\n",
    "            df.iloc[index, 44] = ability\n",
    "        else:\n",
    "            df.iloc[index, 45] = ability\n",
    "        type_counter += 1\n",
    "#         print(index, type_counter, ability)\n",
    "    index += 1\n",
    "print(maximum)"
   ]
  },
  {
   "cell_type": "code",
   "execution_count": null,
   "id": "7b0c334c",
   "metadata": {},
   "outputs": [],
   "source": [
    "all_list"
   ]
  },
  {
   "cell_type": "code",
   "execution_count": null,
   "id": "dcff0c82",
   "metadata": {},
   "outputs": [],
   "source": [
    "df.head(20)"
   ]
  },
  {
   "cell_type": "code",
   "execution_count": null,
   "id": "44b00d96",
   "metadata": {},
   "outputs": [],
   "source": []
  },
  {
   "cell_type": "code",
   "execution_count": null,
   "id": "aa12e170",
   "metadata": {},
   "outputs": [],
   "source": [
    "against = df.columns.tolist()[1:19]"
   ]
  },
  {
   "cell_type": "code",
   "execution_count": null,
   "id": "93bcbb99",
   "metadata": {},
   "outputs": [],
   "source": [
    "df['against_sum'] = 0\n",
    "total = 0\n",
    "total = df[against].sum()"
   ]
  },
  {
   "cell_type": "code",
   "execution_count": null,
   "id": "83152b53",
   "metadata": {},
   "outputs": [],
   "source": [
    "types_dict = {}\n",
    "for i,j in list(enumerate(df[against].iterrows())):\n",
    "#     print(sum(j[1].values.tolist()))\n",
    "    types_dict[i] = sum(j[1].values.tolist())\n",
    "#     print(re.match(pattern = '[+-]?([0-9]*[.])?[0-9]+', string= j[1].str))\n",
    "types_dict"
   ]
  },
  {
   "cell_type": "code",
   "execution_count": null,
   "id": "9773bdb6",
   "metadata": {},
   "outputs": [],
   "source": [
    "pd.Series(types_dict)"
   ]
  },
  {
   "cell_type": "code",
   "execution_count": null,
   "id": "49cea4da",
   "metadata": {},
   "outputs": [],
   "source": [
    "df['against_sum'] = pd.Series(types_dict)"
   ]
  },
  {
   "cell_type": "code",
   "execution_count": null,
   "id": "7f67fbf9",
   "metadata": {},
   "outputs": [],
   "source": [
    "df.head()"
   ]
  },
  {
   "cell_type": "code",
   "execution_count": null,
   "id": "5df00d21",
   "metadata": {},
   "outputs": [],
   "source": [
    "df['against_sum'].min()\n",
    "df['against_sum'].loc[df['against_sum'] == df['against_sum'].min()]"
   ]
  },
  {
   "cell_type": "code",
   "execution_count": null,
   "id": "8bf22ef3",
   "metadata": {},
   "outputs": [],
   "source": [
    "df.iloc[[302,706,800]].iloc[:,31:]"
   ]
  },
  {
   "cell_type": "code",
   "execution_count": null,
   "id": "1c98fd45",
   "metadata": {},
   "outputs": [],
   "source": [
    "df"
   ]
  },
  {
   "cell_type": "code",
   "execution_count": null,
   "id": "53957cbe",
   "metadata": {},
   "outputs": [],
   "source": [
    "generation_means = df.groupby('generation').mean().iloc[:,20:]"
   ]
  },
  {
   "cell_type": "code",
   "execution_count": null,
   "id": "dd2c1ae5",
   "metadata": {},
   "outputs": [],
   "source": [
    "plt.plot(generation_means.index, generation_means['is_legendary'])"
   ]
  },
  {
   "cell_type": "code",
   "execution_count": null,
   "id": "bebdfca8",
   "metadata": {},
   "outputs": [],
   "source": [
    "plt.plot(generation_means.index, generation_means['base_happiness'])"
   ]
  },
  {
   "cell_type": "code",
   "execution_count": null,
   "id": "1d37f8cd",
   "metadata": {},
   "outputs": [],
   "source": [
    "plt.plot(generation_means.index, generation_means['against_sum'])"
   ]
  },
  {
   "cell_type": "code",
   "execution_count": null,
   "id": "f262abd1",
   "metadata": {},
   "outputs": [],
   "source": [
    "plt.plot(generation_means.index, generation_means['height_m'])"
   ]
  },
  {
   "cell_type": "code",
   "execution_count": null,
   "id": "74726995",
   "metadata": {},
   "outputs": [],
   "source": [
    "plt.plot(generation_means.index, generation_means['weight_kg'])"
   ]
  },
  {
   "cell_type": "code",
   "execution_count": null,
   "id": "7cbe50f5",
   "metadata": {},
   "outputs": [],
   "source": [
    "df.head()"
   ]
  },
  {
   "cell_type": "code",
   "execution_count": null,
   "id": "fe6e5874",
   "metadata": {},
   "outputs": [],
   "source": [
    "all_list"
   ]
  },
  {
   "cell_type": "code",
   "execution_count": null,
   "id": "6a6e7173",
   "metadata": {},
   "outputs": [],
   "source": [
    "all_abilities = []\n",
    "[all_abilities.append(i.replace(\"'\",'')) for i in [a.strip() for a in all_list]]"
   ]
  },
  {
   "cell_type": "code",
   "execution_count": null,
   "id": "9a84c822",
   "metadata": {},
   "outputs": [],
   "source": [
    "all_abilities"
   ]
  },
  {
   "cell_type": "code",
   "execution_count": null,
   "id": "da598707",
   "metadata": {},
   "outputs": [],
   "source": [
    "abilities_df = pd.DataFrame(all_abilities, columns = ['Ability'])"
   ]
  },
  {
   "cell_type": "code",
   "execution_count": null,
   "id": "506a5d94",
   "metadata": {},
   "outputs": [],
   "source": [
    "abilities_df['Count'] = 1"
   ]
  },
  {
   "cell_type": "code",
   "execution_count": null,
   "id": "62955011",
   "metadata": {},
   "outputs": [],
   "source": [
    "num_abilities = len(abilities_df)\n",
    "tot_abilities = abilities_df.groupby('Ability').count().sum()"
   ]
  },
  {
   "cell_type": "code",
   "execution_count": null,
   "id": "a40fab4a",
   "metadata": {},
   "outputs": [],
   "source": [
    "abl_stat = abilities_df.groupby('Ability').count() \n",
    "abl_stat['Percent'] = round(abilities_df.groupby('Ability').count() / tot_abilities * 100,2)"
   ]
  },
  {
   "cell_type": "code",
   "execution_count": null,
   "id": "27bbda07",
   "metadata": {},
   "outputs": [],
   "source": [
    "abl_stat"
   ]
  },
  {
   "cell_type": "code",
   "execution_count": null,
   "id": "0e05bf3a",
   "metadata": {},
   "outputs": [],
   "source": [
    "abl_stat = abl_stat.sort_values(by='Count', ascending=False)"
   ]
  },
  {
   "cell_type": "code",
   "execution_count": null,
   "id": "b8e3e7ff",
   "metadata": {},
   "outputs": [],
   "source": [
    "abl_stat.head(10)"
   ]
  },
  {
   "cell_type": "code",
   "execution_count": null,
   "id": "d4434cea",
   "metadata": {},
   "outputs": [],
   "source": [
    "each_ability = []\n",
    "for i in all_abilities:\n",
    "    if i not in each_ability:\n",
    "        each_ability.append(i)\n",
    "each_ability"
   ]
  },
  {
   "cell_type": "code",
   "execution_count": null,
   "id": "b2d40717",
   "metadata": {},
   "outputs": [],
   "source": [
    "ability_dict = {}\n",
    "for a in each_ability:\n",
    "    d = df[(df['ability1'].str.strip('\\'') == a) | (df['ability2'].str.strip('\\'') == a) | (df['ability3'].str.strip('\\'') == a) | (df['ability4'].str.strip('\\'') == a) | (df['ability5'].str.strip('\\'') == a) | (df['ability6'].str.strip('\\'') == a)]\n",
    "    n = len(d)\n",
    "    ability_dict[a] = n"
   ]
  },
  {
   "cell_type": "code",
   "execution_count": null,
   "id": "f4469e0a",
   "metadata": {},
   "outputs": [],
   "source": [
    "ability_dict"
   ]
  },
  {
   "cell_type": "code",
   "execution_count": null,
   "id": "aa246ea2",
   "metadata": {},
   "outputs": [],
   "source": []
  },
  {
   "cell_type": "code",
   "execution_count": null,
   "id": "ee4a52eb",
   "metadata": {},
   "outputs": [],
   "source": [
    "df.against_sum.max()"
   ]
  },
  {
   "cell_type": "code",
   "execution_count": null,
   "id": "9576b3f2",
   "metadata": {},
   "outputs": [],
   "source": [
    "df.loc[df['against_sum'] == 26.0][['type1','type2']]"
   ]
  },
  {
   "cell_type": "code",
   "execution_count": null,
   "id": "a74d91ca",
   "metadata": {},
   "outputs": [],
   "source": [
    "df.columns"
   ]
  },
  {
   "cell_type": "code",
   "execution_count": null,
   "id": "6399a937",
   "metadata": {},
   "outputs": [],
   "source": [
    "df['capture_rate'].iloc[773] = '30'"
   ]
  },
  {
   "cell_type": "code",
   "execution_count": null,
   "id": "f02b051b",
   "metadata": {},
   "outputs": [],
   "source": [
    "df['capture_rate'] = pd.to_numeric(df['capture_rate'])"
   ]
  },
  {
   "cell_type": "code",
   "execution_count": null,
   "id": "df47b6e6",
   "metadata": {},
   "outputs": [],
   "source": [
    "df.groupby('generation').mean()['capture_rate'].plot()"
   ]
  },
  {
   "cell_type": "code",
   "execution_count": null,
   "id": "ce9001ad",
   "metadata": {},
   "outputs": [],
   "source": [
    "dragon = df[(df['type1'] == 'dragon') | (df['type2'] == 'dragon')]\n",
    "dark = df[(df['type1'] == 'dark') | (df['type2'] == 'dark')]\n",
    "bug = df[(df['type1'] == 'bug') | (df['type2'] == 'bug')]\n",
    "electric = df[(df['type1'] == 'electric') | (df['type2'] == 'electric')]\n",
    "fairy = df[(df['type1'] == 'fairy') | (df['type2'] == 'fairy')]\n",
    "fighting = df[(df['type1'] == 'fighting') | (df['type2'] == 'fighting')]\n",
    "fire = df[(df['type1'] == 'fire') | (df['type2'] == 'fire')]\n",
    "flying = df[(df['type1'] == 'flying') | (df['type2'] == 'flying')]\n",
    "ghost = df[(df['type1'] == 'ghost') | (df['type2'] == 'ghost')]\n",
    "grass = df[(df['type1'] == 'grass') | (df['type2'] == 'grass')]\n",
    "ground = df[(df['type1'] == 'ground') | (df['type2'] == 'ground')]\n",
    "ice = df[(df['type1'] == 'ice') | (df['type2'] == 'ice')]\n",
    "normal = df[(df['type1'] == 'normal') | (df['type2'] == 'normal')]\n",
    "poison= df[(df['type1'] == 'poison') | (df['type2'] == 'poison')]\n",
    "psychic = df[(df['type1'] == 'psychic') | (df['type2'] == 'psychic')]\n",
    "rock = df[(df['type1'] == 'rock') | (df['type2'] == 'rock')]\n",
    "steel = df[(df['type1'] == 'steel') | (df['type2'] == 'steel')]\n",
    "water = df[(df['type1'] == 'water') | (df['type2'] == 'water')]"
   ]
  },
  {
   "cell_type": "code",
   "execution_count": null,
   "id": "738aec9c",
   "metadata": {},
   "outputs": [],
   "source": [
    "cpt_rt = [dragon['capture_rate'].mean(),\n",
    "dark['capture_rate'].mean(),\n",
    "bug['capture_rate'].mean(),\n",
    "electric['capture_rate'].mean(),\n",
    "fairy['capture_rate'].mean(),\n",
    "fighting['capture_rate'].mean(),\n",
    "fire['capture_rate'].mean(),\n",
    "flying['capture_rate'].mean(),\n",
    "ghost['capture_rate'].mean(),\n",
    "grass['capture_rate'].mean(),\n",
    "ground['capture_rate'].mean(),\n",
    "ice['capture_rate'].mean(),\n",
    "normal['capture_rate'].mean(),\n",
    "poison['capture_rate'].mean(),\n",
    "psychic['capture_rate'].mean(),\n",
    "rock['capture_rate'].mean(),\n",
    "steel['capture_rate'].mean(),\n",
    "water['capture_rate'].mean()]"
   ]
  },
  {
   "cell_type": "code",
   "execution_count": null,
   "id": "c4a55056",
   "metadata": {},
   "outputs": [],
   "source": [
    "cpt_rt"
   ]
  },
  {
   "cell_type": "code",
   "execution_count": null,
   "id": "12bd3f1c",
   "metadata": {},
   "outputs": [],
   "source": [
    "for r in cpt_rt:\n",
    "    index = cpt_rt.index(r)\n",
    "    cpt_rt[index] = int(round(r,0))\n",
    "cpt_rt"
   ]
  },
  {
   "cell_type": "code",
   "execution_count": null,
   "id": "5a3b8167",
   "metadata": {},
   "outputs": [],
   "source": [
    "len(cpt_rt)\n"
   ]
  },
  {
   "cell_type": "code",
   "execution_count": null,
   "id": "e5691741",
   "metadata": {},
   "outputs": [],
   "source": [
    "reordered_types = types\n",
    "reordered_types[0] = 'dragon'\n",
    "reordered_types[2] = 'bug'\n",
    "plt.bar(reordered_types, cpt_rt)\n",
    "plt.xticks(rotation = 60)\n",
    "# plt.ylim(60,130)"
   ]
  },
  {
   "cell_type": "code",
   "execution_count": null,
   "id": "a2a105e6",
   "metadata": {},
   "outputs": [],
   "source": [
    "len(reordered_types)"
   ]
  },
  {
   "cell_type": "code",
   "execution_count": null,
   "id": "b7bf669b",
   "metadata": {},
   "outputs": [],
   "source": [
    "base_t = [dragon['base_total'].mean(),\n",
    "dark['base_total'].mean(),\n",
    "bug['base_total'].mean(),\n",
    "electric['base_total'].mean(),\n",
    "fairy['base_total'].mean(),\n",
    "fighting['base_total'].mean(),\n",
    "fire['base_total'].mean(),\n",
    "flying['base_total'].mean(),\n",
    "ghost['base_total'].mean(),\n",
    "grass['base_total'].mean(),\n",
    "ground['base_total'].mean(),\n",
    "ice['base_total'].mean(),\n",
    "normal['base_total'].mean(),\n",
    "poison['base_total'].mean(),\n",
    "psychic['base_total'].mean(),\n",
    "rock['base_total'].mean(),\n",
    "steel['base_total'].mean(),\n",
    "water['base_total'].mean()]"
   ]
  },
  {
   "cell_type": "code",
   "execution_count": null,
   "id": "293a0f61",
   "metadata": {},
   "outputs": [],
   "source": [
    "for r in base_t:\n",
    "    index = base_t.index(r)\n",
    "    base_t[index] = int(round(r,0))\n",
    "base_t"
   ]
  },
  {
   "cell_type": "code",
   "execution_count": null,
   "id": "d379baf2",
   "metadata": {},
   "outputs": [],
   "source": [
    "plt.bar(reordered_types,base_t)\n",
    "plt.xticks(rotation = 60)\n",
    "plt.ylim(350,530)"
   ]
  },
  {
   "cell_type": "code",
   "execution_count": null,
   "id": "d8df030f",
   "metadata": {},
   "outputs": [],
   "source": [
    "df_list = [\n",
    "    dragon,\n",
    "    dark,\n",
    "    bug,\n",
    "    electric,\n",
    "    fairy,\n",
    "    fighting,\n",
    "    fire,\n",
    "    flying,\n",
    "    ghost,\n",
    "    grass,\n",
    "    ground,\n",
    "    ice,\n",
    "    normal,\n",
    "    poison,\n",
    "    psychic,\n",
    "    rock,\n",
    "    steel,\n",
    "    water \n",
    "]\n",
    "\n",
    "len(df_list)"
   ]
  },
  {
   "cell_type": "code",
   "execution_count": null,
   "id": "152e1d2e",
   "metadata": {},
   "outputs": [],
   "source": [
    "base_h = [dragon['base_happiness'].mean(),\n",
    "dark['base_happiness'].mean(),\n",
    "bug['base_happiness'].mean(),\n",
    "electric['base_happiness'].mean(),\n",
    "fairy['base_happiness'].mean(),\n",
    "fighting['base_happiness'].mean(),\n",
    "fire['base_happiness'].mean(),\n",
    "flying['base_happiness'].mean(),\n",
    "ghost['base_happiness'].mean(),\n",
    "grass['base_happiness'].mean(),\n",
    "ground['base_happiness'].mean(),\n",
    "ice['base_happiness'].mean(),\n",
    "normal['base_happiness'].mean(),\n",
    "poison['base_happiness'].mean(),\n",
    "psychic['base_happiness'].mean(),\n",
    "rock['base_happiness'].mean(),\n",
    "steel['base_happiness'].mean(),\n",
    "water['base_happiness'].mean()]\n",
    "\n",
    "\n",
    "for r in base_h:\n",
    "    index = base_h.index(r)\n",
    "    base_h[index] = int(round(r,0))\n",
    "\n",
    "\n",
    "plt.bar(reordered_types,base_h)\n",
    "plt.xticks(rotation = 60)\n",
    "plt.ylim(40,75)\n",
    "plt.ylabel('Happiness')"
   ]
  },
  {
   "cell_type": "code",
   "execution_count": null,
   "id": "4ba8d3c5",
   "metadata": {},
   "outputs": [],
   "source": [
    "base_s = [dragon['speed'].mean(),\n",
    "dark['speed'].mean(),\n",
    "bug['speed'].mean(),\n",
    "electric['speed'].mean(),\n",
    "fairy['speed'].mean(),\n",
    "fighting['speed'].mean(),\n",
    "fire['speed'].mean(),\n",
    "flying['speed'].mean(),\n",
    "ghost['speed'].mean(),\n",
    "grass['speed'].mean(),\n",
    "ground['speed'].mean(),\n",
    "ice['speed'].mean(),\n",
    "normal['speed'].mean(),\n",
    "poison['speed'].mean(),\n",
    "psychic['speed'].mean(),\n",
    "rock['speed'].mean(),\n",
    "steel['speed'].mean(),\n",
    "water['speed'].mean()]\n",
    "\n",
    "\n",
    "for r in base_s:\n",
    "    index = base_s.index(r)\n",
    "    base_s[index] = int(round(r,0))\n",
    "\n",
    "\n",
    "plt.bar(reordered_types,base_s)\n",
    "plt.xticks(rotation = 60)\n",
    "plt.ylim(50,85)\n",
    "plt.ylabel('Speed')"
   ]
  },
  {
   "cell_type": "code",
   "execution_count": null,
   "id": "2368a182",
   "metadata": {},
   "outputs": [],
   "source": [
    "dragon.base_total.plot.hist(bins=8)"
   ]
  },
  {
   "cell_type": "code",
   "execution_count": null,
   "id": "7c7db573",
   "metadata": {},
   "outputs": [],
   "source": [
    "df.base_total.plot.hist(bins=10)"
   ]
  },
  {
   "cell_type": "code",
   "execution_count": null,
   "id": "4cd77796",
   "metadata": {},
   "outputs": [],
   "source": [
    "df.attack.plot.hist(bins=10)"
   ]
  },
  {
   "cell_type": "code",
   "execution_count": null,
   "id": "81069e87",
   "metadata": {},
   "outputs": [],
   "source": [
    "df.defense.plot.hist(bins=10)"
   ]
  },
  {
   "cell_type": "code",
   "execution_count": null,
   "id": "f955ee7f",
   "metadata": {},
   "outputs": [],
   "source": [
    "df.capture_rate.plot.hist(bins=10)"
   ]
  },
  {
   "cell_type": "code",
   "execution_count": null,
   "id": "b95a6c3e",
   "metadata": {},
   "outputs": [],
   "source": [
    "df.weight_kg.plot.hist(bins=100)"
   ]
  },
  {
   "cell_type": "code",
   "execution_count": null,
   "id": "528780d2",
   "metadata": {},
   "outputs": [],
   "source": [
    "dragon.base_happiness.plot.hist(bins=5)"
   ]
  },
  {
   "cell_type": "code",
   "execution_count": null,
   "id": "6b14861e",
   "metadata": {},
   "outputs": [],
   "source": [
    "df.height_m.plot.hist(bins=100)"
   ]
  },
  {
   "cell_type": "code",
   "execution_count": null,
   "id": "da2690e0",
   "metadata": {},
   "outputs": [],
   "source": [
    "df['weight_kg'].max()"
   ]
  },
  {
   "cell_type": "code",
   "execution_count": null,
   "id": "38960e9c",
   "metadata": {},
   "outputs": [],
   "source": [
    "df.loc[df['weight_kg'] == 999.9]['name']"
   ]
  },
  {
   "cell_type": "code",
   "execution_count": null,
   "id": "d2467629",
   "metadata": {},
   "outputs": [],
   "source": [
    "df['base_happiness'].max()"
   ]
  },
  {
   "cell_type": "code",
   "execution_count": null,
   "id": "3634d635",
   "metadata": {},
   "outputs": [],
   "source": [
    "df.loc[df['base_happiness'] == 140]['name']"
   ]
  },
  {
   "cell_type": "code",
   "execution_count": null,
   "id": "3a626900",
   "metadata": {},
   "outputs": [],
   "source": [
    "df.attack.max()"
   ]
  },
  {
   "cell_type": "code",
   "execution_count": null,
   "id": "2f940c61",
   "metadata": {},
   "outputs": [],
   "source": [
    "df[df.attack == 185]['name']"
   ]
  },
  {
   "cell_type": "code",
   "execution_count": null,
   "id": "3a4bb18e",
   "metadata": {},
   "outputs": [],
   "source": [
    "\n",
    "df[df.speed == (df.speed.max())]['name']"
   ]
  },
  {
   "cell_type": "code",
   "execution_count": null,
   "id": "87a13fe1",
   "metadata": {},
   "outputs": [],
   "source": [
    "df[df.defense == (df.defense.max())]['name']"
   ]
  },
  {
   "cell_type": "code",
   "execution_count": null,
   "id": "98f4bef5",
   "metadata": {},
   "outputs": [],
   "source": [
    "df[df.base_total == df.base_total.min()]['name']"
   ]
  },
  {
   "cell_type": "code",
   "execution_count": null,
   "id": "3809c1ab",
   "metadata": {},
   "outputs": [],
   "source": [
    "normal.base_total.plot.hist(bins=12)"
   ]
  },
  {
   "cell_type": "code",
   "execution_count": null,
   "id": "e6b672c9",
   "metadata": {},
   "outputs": [],
   "source": [
    "df"
   ]
  },
  {
   "cell_type": "code",
   "execution_count": null,
   "id": "2f5df6a9",
   "metadata": {},
   "outputs": [],
   "source": [
    "all_abilities"
   ]
  },
  {
   "cell_type": "code",
   "execution_count": null,
   "id": "8916eb43",
   "metadata": {},
   "outputs": [],
   "source": [
    "len(each_ability)"
   ]
  },
  {
   "cell_type": "code",
   "execution_count": null,
   "id": "7028e8d3",
   "metadata": {},
   "outputs": [],
   "source": [
    "dragon"
   ]
  },
  {
   "cell_type": "code",
   "execution_count": null,
   "id": "6b658855",
   "metadata": {},
   "outputs": [],
   "source": [
    "dragon.columns"
   ]
  },
  {
   "cell_type": "code",
   "execution_count": null,
   "id": "75b842c6",
   "metadata": {},
   "outputs": [],
   "source": [
    "dragon.describe().iloc[:, 20:]"
   ]
  },
  {
   "cell_type": "code",
   "execution_count": null,
   "id": "a16dd01d",
   "metadata": {},
   "outputs": [],
   "source": [
    "dragon.corr().iloc[:, 20:]"
   ]
  },
  {
   "cell_type": "code",
   "execution_count": null,
   "id": "3a29680c",
   "metadata": {},
   "outputs": [],
   "source": [
    "df.corr().iloc[18:, 18:]"
   ]
  },
  {
   "cell_type": "code",
   "execution_count": null,
   "id": "ee338d45",
   "metadata": {},
   "outputs": [],
   "source": [
    "df.groupby('generation').mean()['experience_growth'].plot()"
   ]
  },
  {
   "cell_type": "code",
   "execution_count": null,
   "id": "9184249e",
   "metadata": {},
   "outputs": [],
   "source": [
    "df.groupby('generation').mean()['speed'].plot()"
   ]
  },
  {
   "cell_type": "code",
   "execution_count": null,
   "id": "1d939adb",
   "metadata": {},
   "outputs": [],
   "source": [
    "df.groupby('generation').mean()['base_total'].plot()"
   ]
  },
  {
   "cell_type": "code",
   "execution_count": null,
   "id": "1f8887f2",
   "metadata": {},
   "outputs": [],
   "source": [
    "df.head()"
   ]
  },
  {
   "cell_type": "code",
   "execution_count": null,
   "id": "5ebadf76",
   "metadata": {},
   "outputs": [],
   "source": [
    "df.columns.tolist()"
   ]
  },
  {
   "cell_type": "code",
   "execution_count": null,
   "id": "70bfd42c",
   "metadata": {},
   "outputs": [],
   "source": [
    "df['ability1'] = df['ability1'].str.strip(\"'\")\n",
    "df['ability2'] = df['ability2'].str.strip(\"'\").str.strip(' ').str.strip(\"'\")\n",
    "df['ability3'] = df['ability3'].str.strip(\"'\").str.strip(' ').str.strip(\"'\")\n",
    "df['ability4'] = df['ability4'].str.strip(\"'\").str.strip(' ').str.strip(\"'\")\n",
    "df['ability5'] = df['ability5'].str.strip(\"'\").str.strip(' ').str.strip(\"'\")\n",
    "df['ability6'] = df['ability6'].str.strip(\"'\").str.strip(' ').str.strip(\"'\")"
   ]
  },
  {
   "cell_type": "code",
   "execution_count": null,
   "id": "b28de37b",
   "metadata": {},
   "outputs": [],
   "source": [
    "df.head()"
   ]
  },
  {
   "cell_type": "code",
   "execution_count": null,
   "id": "8d78b918",
   "metadata": {},
   "outputs": [],
   "source": [
    "df['ability2'][0]"
   ]
  },
  {
   "cell_type": "code",
   "execution_count": null,
   "id": "481a4576",
   "metadata": {},
   "outputs": [],
   "source": [
    "df['ability2'].values.tolist()"
   ]
  },
  {
   "cell_type": "code",
   "execution_count": null,
   "id": "3be2bb3b",
   "metadata": {},
   "outputs": [],
   "source": []
  },
  {
   "cell_type": "code",
   "execution_count": null,
   "id": "366327c3",
   "metadata": {},
   "outputs": [],
   "source": []
  }
 ],
 "metadata": {
  "kernelspec": {
   "display_name": "PythonData",
   "language": "python",
   "name": "pythondata"
  },
  "language_info": {
   "codemirror_mode": {
    "name": "ipython",
    "version": 3
   },
   "file_extension": ".py",
   "mimetype": "text/x-python",
   "name": "python",
   "nbconvert_exporter": "python",
   "pygments_lexer": "ipython3",
   "version": "3.7.13"
  }
 },
 "nbformat": 4,
 "nbformat_minor": 5
}
